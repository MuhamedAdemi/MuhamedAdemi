{
  "nbformat": 4,
  "nbformat_minor": 0,
  "metadata": {
    "colab": {
      "provenance": [],
      "authorship_tag": "ABX9TyNx6m7GdKj3EJtNQDeVNfzf",
      "include_colab_link": true
    },
    "kernelspec": {
      "name": "python3",
      "display_name": "Python 3"
    },
    "language_info": {
      "name": "python"
    }
  },
  "cells": [
    {
      "cell_type": "markdown",
      "metadata": {
        "id": "view-in-github",
        "colab_type": "text"
      },
      "source": [
        "<a href=\"https://colab.research.google.com/github/MuhamedAdemi/MuhamedAdemi/blob/main/ligjerata!.ipynb\" target=\"_parent\"><img src=\"https://colab.research.google.com/assets/colab-badge.svg\" alt=\"Open In Colab\"/></a>"
      ]
    },
    {
      "cell_type": "code",
      "execution_count": null,
      "metadata": {
        "colab": {
          "base_uri": "https://localhost:8080/"
        },
        "id": "6FRE6DZAqE4O",
        "outputId": "a0495b08-0b98-4a0d-8e04-547653194190"
      },
      "outputs": [
        {
          "output_type": "stream",
          "name": "stdout",
          "text": [
            "['Jusuf', 'Kajdafe', 'Muhamed']\n",
            "['Jusuf', 'Kajdafe', 'Muhamed', 12]\n"
          ]
        }
      ],
      "source": [
        "x = [\"Jusuf\", \"Kajdafe\", \"Muhamed\"]\n",
        "print(x)\n",
        "x.append(12)\n",
        "print(x)"
      ]
    },
    {
      "cell_type": "code",
      "source": [
        "y = [2009,[20,10,2010],[16,6,1983],[6,2,1984]]\n",
        "print(y)"
      ],
      "metadata": {
        "colab": {
          "base_uri": "https://localhost:8080/"
        },
        "id": "K6K35AOhqtjO",
        "outputId": "623ab4ff-7467-40f2-a44e-22b0035119c8"
      },
      "execution_count": null,
      "outputs": [
        {
          "output_type": "stream",
          "name": "stdout",
          "text": [
            "[2009, [20, 10, 2010], [16, 6, 1983], [6, 2, 1984]]\n"
          ]
        }
      ]
    },
    {
      "cell_type": "code",
      "source": [
        "z = [1,2,3,5,9,8,7]\n",
        "z.sort(reverse = True)\n",
        "z"
      ],
      "metadata": {
        "colab": {
          "base_uri": "https://localhost:8080/"
        },
        "id": "c_Xx8tV1scTw",
        "outputId": "9c73fbcd-e20d-44ae-d129-eb846b10ab69"
      },
      "execution_count": null,
      "outputs": [
        {
          "output_type": "execute_result",
          "data": {
            "text/plain": [
              "[9, 8, 7, 5, 3, 2, 1]"
            ]
          },
          "metadata": {},
          "execution_count": 19
        }
      ]
    },
    {
      "cell_type": "code",
      "source": [
        "x = (1, 2, 3, 4)\n",
        "\n",
        "print('type(x) = ', type(x))\n",
        "print('x = ', x)\n",
        "print('---')\n",
        "\n",
        "x = list(x)\n",
        "\n",
        "print('type(x) = ', type(x))\n",
        "print('x = ', x)\n",
        "print('---')\n",
        "\n",
        "x[0] = -10\n",
        "\n",
        "x = tuple(x)\n",
        "\n",
        "print('type(x) = ', type(x))\n",
        "print('x = ', x)\n",
        "print('---')"
      ],
      "metadata": {
        "id": "CrWZ8sBPuy_3"
      },
      "execution_count": null,
      "outputs": []
    },
    {
      "cell_type": "code",
      "source": [
        "x = 7\n",
        "y = 2\n",
        "print(y//x)\n",
        "print(x%y)"
      ],
      "metadata": {
        "colab": {
          "base_uri": "https://localhost:8080/"
        },
        "id": "okFSaVx7u5HA",
        "outputId": "bcfb2ce9-a05e-45c7-d899-7151ae2c9861"
      },
      "execution_count": null,
      "outputs": [
        {
          "output_type": "stream",
          "name": "stdout",
          "text": [
            "0\n",
            "1\n"
          ]
        }
      ]
    },
    {
      "cell_type": "code",
      "source": [
        "my = [52,23,98,45]\n",
        "\n",
        "my.sort()\n",
        "my"
      ],
      "metadata": {
        "colab": {
          "base_uri": "https://localhost:8080/"
        },
        "id": "Xv4G9Cp7vWng",
        "outputId": "14db7a79-7a41-4eb3-9334-d03c2fa108c6"
      },
      "execution_count": null,
      "outputs": [
        {
          "output_type": "execute_result",
          "data": {
            "text/plain": [
              "[23, 45, 52, 98]"
            ]
          },
          "metadata": {},
          "execution_count": 34
        }
      ]
    },
    {
      "cell_type": "code",
      "source": [
        "tu = (2,'banana',6)\n",
        "list(tu)"
      ],
      "metadata": {
        "colab": {
          "base_uri": "https://localhost:8080/"
        },
        "id": "O3dRwOdXvlYR",
        "outputId": "b4e80c45-74ae-4c7f-9ad0-1e2ca7070baa"
      },
      "execution_count": null,
      "outputs": [
        {
          "output_type": "execute_result",
          "data": {
            "text/plain": [
              "[2, 'banana', 6]"
            ]
          },
          "metadata": {},
          "execution_count": 31
        }
      ]
    },
    {
      "cell_type": "code",
      "source": [
        "a , b = 25, 25\n",
        "if a > b:\n",
        "  print(f'{a} is grated {b}')\n",
        "elif a < b:\n",
        "  print(f'{b} is greater than { a}')\n",
        "else:\n",
        "  print(f'{b} is ecual than {  a}')"
      ],
      "metadata": {
        "colab": {
          "base_uri": "https://localhost:8080/"
        },
        "id": "5Y1Vzg6Eo6N9",
        "outputId": "8c3d361e-c067-4e13-a7ad-91c254d778ad"
      },
      "execution_count": null,
      "outputs": [
        {
          "output_type": "stream",
          "name": "stdout",
          "text": [
            "25 is ecual than 25\n"
          ]
        }
      ]
    },
    {
      "cell_type": "code",
      "source": [
        "points = int(input())\n",
        "\n",
        "\n",
        "if points >= 90   :\n",
        "  print('gread is 10 ')\n",
        "elif points >= 80  :\n",
        "  print('gread is 9 ')\n",
        "elif points >= 70  :\n",
        "  print('gread is 8 ')\n",
        "elif points >= 60  :\n",
        "  print('gread is 7 ')\n",
        "elif points >= 50  :\n",
        "  print('gread is 6 ')\n",
        "else:\n",
        "  print('Student is faild')"
      ],
      "metadata": {
        "colab": {
          "base_uri": "https://localhost:8080/"
        },
        "id": "bM1tvtERrh0f",
        "outputId": "34663539-c3cf-415e-a810-24374aabde37"
      },
      "execution_count": null,
      "outputs": [
        {
          "output_type": "stream",
          "name": "stdout",
          "text": [
            "42\n",
            "Student is faild\n"
          ]
        }
      ]
    },
    {
      "cell_type": "markdown",
      "source": [],
      "metadata": {
        "id": "pzg_uQe5rg_T"
      }
    }
  ]
}