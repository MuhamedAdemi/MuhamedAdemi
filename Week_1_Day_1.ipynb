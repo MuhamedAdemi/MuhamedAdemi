{
  "nbformat": 4,
  "nbformat_minor": 0,
  "metadata": {
    "colab": {
      "provenance": [],
      "toc_visible": true,
      "include_colab_link": true
    },
    "kernelspec": {
      "name": "python3",
      "display_name": "Python 3"
    },
    "language_info": {
      "name": "python"
    }
  },
  "cells": [
    {
      "cell_type": "markdown",
      "metadata": {
        "id": "view-in-github",
        "colab_type": "text"
      },
      "source": [
        "<a href=\"https://colab.research.google.com/github/MuhamedAdemi/MuhamedAdemi/blob/main/Week_1_Day_1.ipynb\" target=\"_parent\"><img src=\"https://colab.research.google.com/assets/colab-badge.svg\" alt=\"Open In Colab\"/></a>"
      ]
    },
    {
      "cell_type": "markdown",
      "metadata": {
        "id": "defb4b01"
      },
      "source": [
        "# Week 1 Day 1\n",
        "\n",
        " - Variables\n",
        " - **print()** function\n",
        " - **input()** function\n",
        " - Casting of variables\n",
        " - Mathematical operations with variables\n",
        " - Comparison operations with variables\n",
        " - Logical operations with variables\n",
        " - Strings in Python\n",
        " - Operations with strings\n",
        " - Lists\n",
        " - Accessing and working with list items\n",
        " - Functions for working with lists\n",
        " - Operations with lists\n",
        " - Tuples\n",
        " - Accessing and working with tuple items\n",
        " - Functions for working with tuples\n",
        " - Operations with tuples"
      ]
    },
    {
      "cell_type": "markdown",
      "metadata": {
        "id": "e7e891df"
      },
      "source": [
        "---"
      ]
    },
    {
      "cell_type": "markdown",
      "metadata": {
        "id": "2e3d3081"
      },
      "source": [
        "## Variables\n",
        "\n",
        "A variable in Python is simply a **container for storing data values**.\n",
        "It takes a certain value we assign to it, and stores that value in memory.\n",
        "\n",
        "We give different **names** to variables, in order to know which value is stored in which variable.\n",
        "\n",
        "\n",
        "For example:\n",
        "\n",
        "    i = 5\n",
        "    \n",
        "    str_var = \"text\"\n",
        "    \n",
        "    char_variable = 'c'\n",
        "    \n",
        "    x = 2.3\n",
        "    \n",
        "    b = True\n",
        "\n",
        "You can give any name to a variable, as long as it is one word (either all together or separated by an underscore). Usually, variables should contain shorter names, so that the code is cleaner.\n",
        "\n",
        "When we ask **'What is the type of a variable?'** we mean what is the type of data that is stored in the variable.\n",
        "\n",
        "There are 4 basic types of variables in Python:\n",
        "\n",
        " - **int** &rarr; integer (..., -4, -3, -2, -1, 0, 1, 2, 3, 4, ...)\n",
        " - **float** &rarr; decimal number (..., -4.3, -3.7, -2.5, -1.4, 0.0, 0.1, 1.3, 2.1, 4.4, ...)\n",
        " - **string** &rarr; textual value (\"text 1\", 'word', 'tree', \"Banana\", ...)\n",
        " - **bool** &rarr; boolean value (True/False)\n",
        "\n",
        "We also mention a 5th type of variable, **character**, which in Python is a string (in other languages, however, a character is a different type of a variable than string)."
      ]
    },
    {
      "cell_type": "markdown",
      "metadata": {
        "id": "257cfe7b"
      },
      "source": [
        "### Exercise 1\n",
        "\n",
        "Define 4 variables (int, float, string, bool) in Python. You decide their values."
      ]
    },
    {
      "cell_type": "markdown",
      "metadata": {
        "id": "9135eaf5"
      },
      "source": [
        "#### Solution\n",
        "\n",
        "Defining a variable in Python is easy: a mathematical equation with the **=** sign in the middle. Left from **=**, i.e. the Left-hand side (LHS), has the variable name, and the Right-hand side (RHS) has the value assigned to that variable."
      ]
    },
    {
      "cell_type": "code",
      "execution_count": null,
      "metadata": {
        "id": "210c24ac"
      },
      "outputs": [],
      "source": [
        "# int\n",
        "x = 5\n",
        "\n",
        "# float\n",
        "y = 2.3\n",
        "\n",
        "# string\n",
        "first_string = 'This is the 1st string @@!'\n",
        "\n",
        "# bool\n",
        "b = True"
      ]
    },
    {
      "cell_type": "markdown",
      "metadata": {
        "id": "6aa42842"
      },
      "source": [
        "### Exercise 1.1\n",
        "\n",
        "Print the values of the variables you defined in Exercise 1."
      ]
    },
    {
      "cell_type": "markdown",
      "metadata": {
        "id": "f3e58544"
      },
      "source": [
        "#### Solution 1\n",
        "\n",
        "To print something in Python we use the **print()** function."
      ]
    },
    {
      "cell_type": "code",
      "execution_count": null,
      "metadata": {
        "id": "df8d96f4",
        "outputId": "fa34c773-0bfd-4fa1-ddc7-7aac4056bc0c",
        "colab": {
          "base_uri": "https://localhost:8080/"
        }
      },
      "outputs": [
        {
          "output_type": "stream",
          "name": "stdout",
          "text": [
            "x =  5\n",
            "\n",
            "y =  2.3\n",
            "\n",
            "first_string =  This is the 1st string @@!\n",
            "\n",
            "b =  True\n"
          ]
        }
      ],
      "source": [
        "# Printing the int variable\n",
        "print(\"x = \", x)\n",
        "print()\n",
        "\n",
        "# Printing the float variable\n",
        "print(\"y = \", y)\n",
        "print()\n",
        "\n",
        "# Printing the string variable\n",
        "print(\"first_string = \", first_string)\n",
        "print()\n",
        "\n",
        "# Printing the bool variable\n",
        "print('b = ', b)"
      ]
    },
    {
      "cell_type": "code",
      "execution_count": null,
      "metadata": {
        "id": "07069e4f",
        "outputId": "0a585e61-1bc8-4396-bf54-59d9099b0e90",
        "colab": {
          "base_uri": "https://localhost:8080/"
        }
      },
      "outputs": [
        {
          "output_type": "stream",
          "name": "stdout",
          "text": [
            "5 \n",
            " 2.3 \n",
            " This is the 1st string @@! \n",
            " True\n"
          ]
        }
      ],
      "source": [
        "print(x,'\\n', y,'\\n', first_string,'\\n', b)"
      ]
    },
    {
      "cell_type": "markdown",
      "metadata": {
        "id": "71a11f8a"
      },
      "source": [
        "#### Solution 2\n",
        "\n",
        "Specific to Jupyter Notebook (and Google Colab), we can add only one variable we want to print at the end of a cell, without using the print function."
      ]
    },
    {
      "cell_type": "code",
      "execution_count": null,
      "metadata": {
        "id": "bcfc42ea",
        "outputId": "9153f8e8-24c4-4c9f-e0e6-022aaec86fa5",
        "colab": {
          "base_uri": "https://localhost:8080/"
        }
      },
      "outputs": [
        {
          "output_type": "execute_result",
          "data": {
            "text/plain": [
              "5"
            ]
          },
          "metadata": {},
          "execution_count": 17
        }
      ],
      "source": [
        "# Printing the int variable\n",
        "x"
      ]
    },
    {
      "cell_type": "code",
      "execution_count": null,
      "metadata": {
        "id": "8fdd29fd",
        "outputId": "66f5f13d-88cf-4ade-8aaf-bdaec78e6fa1",
        "colab": {
          "base_uri": "https://localhost:8080/"
        }
      },
      "outputs": [
        {
          "output_type": "execute_result",
          "data": {
            "text/plain": [
              "2.3"
            ]
          },
          "metadata": {},
          "execution_count": 18
        }
      ],
      "source": [
        "# Printing the float variable\n",
        "y"
      ]
    },
    {
      "cell_type": "code",
      "execution_count": null,
      "metadata": {
        "id": "b1de2e41",
        "outputId": "dd620b59-624a-47cf-84fd-2ec7c01e5fe4",
        "colab": {
          "base_uri": "https://localhost:8080/",
          "height": 35
        }
      },
      "outputs": [
        {
          "output_type": "execute_result",
          "data": {
            "text/plain": [
              "'This is the 1st string @@!'"
            ],
            "application/vnd.google.colaboratory.intrinsic+json": {
              "type": "string"
            }
          },
          "metadata": {},
          "execution_count": 19
        }
      ],
      "source": [
        "# Printing the string variable\n",
        "first_string"
      ]
    },
    {
      "cell_type": "code",
      "execution_count": null,
      "metadata": {
        "id": "d8010a0f",
        "outputId": "3a80c81b-f405-4e8b-93ed-91cfe9349ed1",
        "colab": {
          "base_uri": "https://localhost:8080/"
        }
      },
      "outputs": [
        {
          "output_type": "execute_result",
          "data": {
            "text/plain": [
              "True"
            ]
          },
          "metadata": {},
          "execution_count": 20
        }
      ],
      "source": [
        "# Printing the bool variable\n",
        "b"
      ]
    },
    {
      "cell_type": "markdown",
      "metadata": {
        "id": "b4deea0f"
      },
      "source": [
        "**Note**: However, if we just subsequently write the variables in a cell, jupyter notebook will print only the last variable."
      ]
    },
    {
      "cell_type": "code",
      "execution_count": null,
      "metadata": {
        "id": "a5c45ff5",
        "outputId": "d6b22bbf-c7a5-4e70-c622-d40f5f338e2f",
        "colab": {
          "base_uri": "https://localhost:8080/"
        }
      },
      "outputs": [
        {
          "output_type": "execute_result",
          "data": {
            "text/plain": [
              "True"
            ]
          },
          "metadata": {},
          "execution_count": 21
        }
      ],
      "source": [
        "# int variable:\n",
        "x\n",
        "# print(x)\n",
        "\n",
        "# float variable:\n",
        "y\n",
        "\n",
        "# string variable:\n",
        "first_string\n",
        "\n",
        "# bool variable:\n",
        "b"
      ]
    },
    {
      "cell_type": "markdown",
      "metadata": {
        "id": "77982fb8"
      },
      "source": [
        "## The **print()** function\n",
        "\n",
        "We defined some variables and saw the **print()** function in Exercise 1.1.\n",
        "The purpose of the function is to allow us to show on screen the value that variables have.\n",
        "\n",
        "Now let's see how we can define variables in a more elegant way and the different ways that the **print()** function can be used."
      ]
    },
    {
      "cell_type": "code",
      "execution_count": null,
      "metadata": {
        "id": "c44df164"
      },
      "outputs": [],
      "source": [
        "# Some defined variables\n",
        "a = \"text for variable a\"\n",
        "b = 'text for variable b'\n",
        "x = 1\n",
        "y = 2.7"
      ]
    },
    {
      "cell_type": "code",
      "execution_count": null,
      "metadata": {
        "id": "336d705d",
        "outputId": "b443b524-87c4-4de8-f3f0-d2fe184c1268",
        "colab": {
          "base_uri": "https://localhost:8080/"
        }
      },
      "outputs": [
        {
          "output_type": "stream",
          "name": "stdout",
          "text": [
            "text for variable a text for variable b 1 2.7\n"
          ]
        }
      ],
      "source": [
        "print(a, b, x, y)"
      ]
    },
    {
      "cell_type": "code",
      "execution_count": null,
      "metadata": {
        "id": "d59e7a9a",
        "outputId": "0f4959bd-9803-46d8-ddf1-5261601819b1",
        "colab": {
          "base_uri": "https://localhost:8080/"
        }
      },
      "outputs": [
        {
          "output_type": "stream",
          "name": "stdout",
          "text": [
            "a =  text A\n",
            "b =  text B\n",
            "x =  1.1\n",
            "y =  2.72\n"
          ]
        }
      ],
      "source": [
        "# Defining the variables in another way\n",
        "a, b, x, y = 'text A', 'text B', 1.1, 2.72\n",
        "\n",
        "# Printing the variables\n",
        "print(\"a = \", a)\n",
        "print(\"b = \", b)\n",
        "print(\"x = \", x)\n",
        "print(\"y = \", y)"
      ]
    },
    {
      "cell_type": "markdown",
      "metadata": {
        "id": "9052e9e3"
      },
      "source": [
        "## The **input()** function\n",
        "\n",
        "The **input()** function is a function in Python that allows the user to input data.\n",
        "\n",
        "Here is an example of how the input function works. To store the inputted data in a variable, we must assign the **input()** function to a variable."
      ]
    },
    {
      "cell_type": "code",
      "execution_count": null,
      "metadata": {
        "id": "3f7e67a0",
        "colab": {
          "base_uri": "https://localhost:8080/"
        },
        "outputId": "7fadc88a-11e4-48b3-cf20-5b108cba078d"
      },
      "outputs": [
        {
          "name": "stdout",
          "output_type": "stream",
          "text": [
            "12\n",
            "x =  12\n",
            "\n",
            "Внеси целобројна вредност: 1\n"
          ]
        }
      ],
      "source": [
        "# The input() function in Python\n",
        "x = input()\n",
        "print(\"x = \", x)\n",
        "print()\n",
        "\n",
        "# We can also add text as an argument to the input() function to notify the user what needs to be inputted\n",
        "x = input('Внеси целобројна вредност: ')"
      ]
    },
    {
      "cell_type": "code",
      "execution_count": null,
      "metadata": {
        "id": "6a0e043a",
        "colab": {
          "base_uri": "https://localhost:8080/",
          "height": 35
        },
        "outputId": "9bbe31e5-06c3-43cd-93dc-f02b6853fc8f"
      },
      "outputs": [
        {
          "output_type": "execute_result",
          "data": {
            "text/plain": [
              "'1'"
            ],
            "application/vnd.google.colaboratory.intrinsic+json": {
              "type": "string"
            }
          },
          "metadata": {},
          "execution_count": 51
        }
      ],
      "source": [
        "x"
      ]
    },
    {
      "cell_type": "markdown",
      "metadata": {
        "id": "f15fde1d"
      },
      "source": [
        "## Checking variable types and casting\n",
        "\n",
        "\n",
        "To check the type of data that is stored in a variable, we use the **type(here goes the variable to check)** function.\n",
        "\n",
        "Let's see an example."
      ]
    },
    {
      "cell_type": "code",
      "execution_count": null,
      "metadata": {
        "id": "192b2f44",
        "colab": {
          "base_uri": "https://localhost:8080/"
        },
        "outputId": "ac71934d-76e0-4022-cdc5-8189618b2b58"
      },
      "outputs": [
        {
          "output_type": "stream",
          "name": "stdout",
          "text": [
            "The type of x is  <class 'int'>\n",
            "The type of y is  <class 'str'>\n",
            "The type of f is  <class 'bool'>\n",
            "The type of the number 2.2 is  <class 'float'>\n"
          ]
        }
      ],
      "source": [
        "# Some defined variables\n",
        "x = 5\n",
        "y = 'It is Tuesday evening.'\n",
        "f = False\n",
        "\n",
        "# Check and print the types of the variables\n",
        "print('The type of x is ', type(x))\n",
        "print('The type of y is ', type(y))\n",
        "print('The type of f is ', type(f))\n",
        "print('The type of the number 2.2 is ', type(2.2))"
      ]
    },
    {
      "cell_type": "markdown",
      "metadata": {
        "id": "e795cfe5"
      },
      "source": [
        "**Casting**, also known as type conversion, is a process that **converts a variable's data type into another data type**.\n",
        "\n",
        "These conversions can be implicit (automatically interpreted) or explicit (using built-in functions).\n",
        "\n",
        "\n",
        "To cast a variable's data to a specific type, we use the following functions:\n",
        "\n",
        " - **int()** &rarr; cast to int\n",
        " - **float()** &rarr; cast to float\n",
        " - **str()** &rarr; cast to string\n",
        " - **bool()** &rarr; cast to boolean"
      ]
    },
    {
      "cell_type": "code",
      "source": [
        "num = 78.9996\n",
        "print(num)\n",
        "print(type(num))\n",
        "\n",
        "num2 = int(num)\n",
        "print(type(num2))\n",
        "print(num2)"
      ],
      "metadata": {
        "colab": {
          "base_uri": "https://localhost:8080/"
        },
        "id": "tqYxk3WN5HQk",
        "outputId": "aedec911-63c1-48f9-f534-5b3ce0d9ea4a"
      },
      "execution_count": null,
      "outputs": [
        {
          "output_type": "stream",
          "name": "stdout",
          "text": [
            "78.9996\n",
            "<class 'float'>\n",
            "<class 'int'>\n",
            "78\n"
          ]
        }
      ]
    },
    {
      "cell_type": "code",
      "execution_count": null,
      "metadata": {
        "id": "df7f7e8b",
        "colab": {
          "base_uri": "https://localhost:8080/",
          "height": 332
        },
        "outputId": "090f7086-62ec-4302-9ba1-9f97644c54aa"
      },
      "outputs": [
        {
          "output_type": "stream",
          "name": "stdout",
          "text": [
            "x =  7\n",
            "\n",
            "The type of x is  <class 'int'>\n",
            "The type of x is  <class 'float'>\n",
            "x =  7.0\n",
            "The type of x is  <class 'str'>\n",
            "x =  7.0\n"
          ]
        },
        {
          "output_type": "error",
          "ename": "ValueError",
          "evalue": "invalid literal for int() with base 10: '7.0'",
          "traceback": [
            "\u001b[0;31m---------------------------------------------------------------------------\u001b[0m",
            "\u001b[0;31mValueError\u001b[0m                                Traceback (most recent call last)",
            "\u001b[0;32m<ipython-input-58-00c3863c0d58>\u001b[0m in \u001b[0;36m<cell line: 17>\u001b[0;34m()\u001b[0m\n\u001b[1;32m     15\u001b[0m \u001b[0mprint\u001b[0m\u001b[0;34m(\u001b[0m\u001b[0;34m\"x = \"\u001b[0m\u001b[0;34m,\u001b[0m \u001b[0mx\u001b[0m\u001b[0;34m)\u001b[0m\u001b[0;34m\u001b[0m\u001b[0;34m\u001b[0m\u001b[0m\n\u001b[1;32m     16\u001b[0m \u001b[0;34m\u001b[0m\u001b[0m\n\u001b[0;32m---> 17\u001b[0;31m \u001b[0mx\u001b[0m \u001b[0;34m=\u001b[0m \u001b[0mint\u001b[0m\u001b[0;34m(\u001b[0m\u001b[0mx\u001b[0m\u001b[0;34m)\u001b[0m\u001b[0;34m\u001b[0m\u001b[0;34m\u001b[0m\u001b[0m\n\u001b[0m\u001b[1;32m     18\u001b[0m \u001b[0mprint\u001b[0m\u001b[0;34m(\u001b[0m\u001b[0;34m'The type of x is '\u001b[0m\u001b[0;34m,\u001b[0m \u001b[0mtype\u001b[0m\u001b[0;34m(\u001b[0m\u001b[0mx\u001b[0m\u001b[0;34m)\u001b[0m\u001b[0;34m)\u001b[0m\u001b[0;34m\u001b[0m\u001b[0;34m\u001b[0m\u001b[0m\n\u001b[1;32m     19\u001b[0m \u001b[0mprint\u001b[0m\u001b[0;34m(\u001b[0m\u001b[0;34m\"x = \"\u001b[0m\u001b[0;34m,\u001b[0m \u001b[0mx\u001b[0m\u001b[0;34m)\u001b[0m\u001b[0;34m\u001b[0m\u001b[0;34m\u001b[0m\u001b[0m\n",
            "\u001b[0;31mValueError\u001b[0m: invalid literal for int() with base 10: '7.0'"
          ]
        }
      ],
      "source": [
        "# int variable\n",
        "x = 7\n",
        "print(\"x = \", x)\n",
        "print()\n",
        "\n",
        "# Convert the above defined variable from int to float, then from float to string, and from string back to int. Print the intermediate results.\n",
        "print('The type of x is ', type(x))\n",
        "\n",
        "x = float(x)\n",
        "print('The type of x is ', type(x))\n",
        "print(\"x = \", x)\n",
        "\n",
        "x = str(x)\n",
        "print('The type of x is ', type(x))\n",
        "print(\"x = \", x)\n",
        "\n",
        "x = int(x)\n",
        "print('The type of x is ', type(x))\n",
        "print(\"x = \", x)"
      ]
    },
    {
      "cell_type": "code",
      "execution_count": null,
      "metadata": {
        "id": "b45c6608",
        "colab": {
          "base_uri": "https://localhost:8080/"
        },
        "outputId": "af1e3cba-da3b-4987-c272-996dbd5968fa"
      },
      "outputs": [
        {
          "output_type": "stream",
          "name": "stdout",
          "text": [
            "x =  7\n",
            "\n",
            "The type of x is  <class 'int'>\n",
            "The type of y is  <class 'float'>\n",
            "y =  7.0\n",
            "The type of z is  <class 'str'>\n",
            "z =  7\n",
            "The type of x is  <class 'int'>\n",
            "t =  7\n"
          ]
        }
      ],
      "source": [
        "# int variable\n",
        "x = 7\n",
        "print(\"x = \", x)\n",
        "print()\n",
        "\n",
        "# Convert the above defined variable from int to float, then from float to string, and from string back to int. Print the intermediate results.\n",
        "print('The type of x is ', type(x))\n",
        "\n",
        "y = float(x)\n",
        "print('The type of y is ', type(y))\n",
        "print(\"y = \", y)\n",
        "\n",
        "z = str(x)\n",
        "print('The type of z is ', type(z))\n",
        "print(\"z = \", z)\n",
        "\n",
        "t = int(x)\n",
        "print('The type of x is ', type(t))\n",
        "print(\"t = \", t)"
      ]
    },
    {
      "cell_type": "code",
      "execution_count": null,
      "metadata": {
        "id": "6d23ef09",
        "colab": {
          "base_uri": "https://localhost:8080/"
        },
        "outputId": "4ba1e78b-fc04-4b01-94e8-ffcb484be8cb"
      },
      "outputs": [
        {
          "output_type": "stream",
          "name": "stdout",
          "text": [
            "x =  7\n",
            "y =  7.0\n",
            "z =  7\n",
            "t =  7\n"
          ]
        }
      ],
      "source": [
        "print('x = ', x)\n",
        "print('y = ', y)\n",
        "print('z = ', z)\n",
        "print('t = ', t)"
      ]
    },
    {
      "cell_type": "code",
      "execution_count": null,
      "metadata": {
        "id": "68fbb90b",
        "colab": {
          "base_uri": "https://localhost:8080/",
          "height": 176
        },
        "outputId": "6a2a8c6e-8f25-4e02-a0b9-09b3daafd314"
      },
      "outputs": [
        {
          "output_type": "error",
          "ename": "ValueError",
          "evalue": "invalid literal for int() with base 10: 'It is Tuesday evening 111.'",
          "traceback": [
            "\u001b[0;31m---------------------------------------------------------------------------\u001b[0m",
            "\u001b[0;31mValueError\u001b[0m                                Traceback (most recent call last)",
            "\u001b[0;32m<ipython-input-61-4722a423a105>\u001b[0m in \u001b[0;36m<cell line: 5>\u001b[0;34m()\u001b[0m\n\u001b[1;32m      3\u001b[0m \u001b[0;34m\u001b[0m\u001b[0m\n\u001b[1;32m      4\u001b[0m \u001b[0;31m# Cast the string variable to int. What do you get from the code?\u001b[0m\u001b[0;34m\u001b[0m\u001b[0;34m\u001b[0m\u001b[0m\n\u001b[0;32m----> 5\u001b[0;31m \u001b[0my\u001b[0m \u001b[0;34m=\u001b[0m \u001b[0mint\u001b[0m\u001b[0;34m(\u001b[0m\u001b[0my\u001b[0m\u001b[0;34m)\u001b[0m\u001b[0;34m\u001b[0m\u001b[0;34m\u001b[0m\u001b[0m\n\u001b[0m",
            "\u001b[0;31mValueError\u001b[0m: invalid literal for int() with base 10: 'It is Tuesday evening 111.'"
          ]
        }
      ],
      "source": [
        "# string variable\n",
        "y = 'It is Tuesday evening 111.'\n",
        "\n",
        "# Cast the string variable to int. What do you get from the code?\n",
        "y = int(y)"
      ]
    },
    {
      "cell_type": "markdown",
      "metadata": {
        "id": "57e0bf76"
      },
      "source": [
        "**Note**: In order to be able to cast a variable's data from one type to another, we need to be certain that the data stored in the variable can, in fact, be of that specific type of data."
      ]
    },
    {
      "cell_type": "markdown",
      "metadata": {
        "id": "08a56488"
      },
      "source": [
        "### Exercise 2\n",
        "\n",
        "Lets exemplify a few more castings. Define your own variables and cast them to various types."
      ]
    },
    {
      "cell_type": "markdown",
      "metadata": {
        "id": "2cb9c89a"
      },
      "source": [
        "#### Solution\n",
        "\n",
        "We will use the functions we mentioned thus far."
      ]
    },
    {
      "cell_type": "code",
      "execution_count": null,
      "metadata": {
        "id": "b4f439b3",
        "colab": {
          "base_uri": "https://localhost:8080/"
        },
        "outputId": "af2dcf7a-ca45-46e2-bd42-4808e4302bb7"
      },
      "outputs": [
        {
          "output_type": "execute_result",
          "data": {
            "text/plain": [
              "111"
            ]
          },
          "metadata": {},
          "execution_count": 62
        }
      ],
      "source": [
        "# Define some variables\n",
        "var1 = 'text1'\n",
        "var2 = 7.8\n",
        "var3 = 2\n",
        "var4 = '111'\n",
        "\n",
        "# Check the type of variables and cast them. See what results you get.\n",
        "int(var4)"
      ]
    },
    {
      "cell_type": "markdown",
      "metadata": {
        "id": "c192c4ec"
      },
      "source": [
        "## Arithmetic operations with int and float variables\n",
        "\n",
        "In Python, we can perform all arithmetic operations with int and float variables.\n",
        "\n",
        "Assuming **x** and **y** are numeric variables (int or float), the following table defines the arithmetic operations we can perform.\n",
        "\n",
        "\n",
        "\n",
        "<table style=\"width:70%\">\n",
        "<tr>\n",
        "<td><center><b>Operation</b></center></td>\n",
        "<td><center><b>Python syntax</b></center></td>\n",
        "<td><center><b>Result from performed operation</b></center></td>\n",
        "</tr>\n",
        "\n",
        "<tr>\n",
        "<td><center>Addition</center></td>\n",
        "<td><center>x + y</center></td>\n",
        "<td><center>The sum of x and y</center></td>\n",
        "</tr>\n",
        "\n",
        "<tr>\n",
        "<td><center>Subtraction</center></td>\n",
        "<td><center>x - y</center></td>\n",
        "<td><center>The difference of x and y</center></td>\n",
        "</tr>\n",
        "\n",
        "<tr>\n",
        "<td><center>Multiplication</center></td>\n",
        "<td><center>x * y</center></td>\n",
        "<td><center>The product of x and y</center></td>\n",
        "</tr>\n",
        "\n",
        "<tr>\n",
        "<td><center>Division</center></td>\n",
        "<td><center>x / y</center></td>\n",
        "<td><center>The quotient of x and y</center></td>\n",
        "</tr>\n",
        "    \n",
        "<tr>\n",
        "<td><center>Power</center></td>\n",
        "<td><center>x ** y</center></td>\n",
        "<td><center>x to the power of y</center></td>\n",
        "</tr>\n",
        "        \n",
        "<tr>\n",
        "<td><center>Integer division</center></td>\n",
        "<td><center>x // y</center></td>\n",
        "<td><center>The integer quotient of x and y</center></td>\n",
        "</tr>\n",
        "            \n",
        "<tr>\n",
        "<td><center>Modulo</center></td>\n",
        "<td><center>x % y</center></td>\n",
        "<td><center>The remainder of dividing x and y</center></td>\n",
        "</tr>\n",
        "</table>"
      ]
    },
    {
      "cell_type": "markdown",
      "metadata": {
        "id": "4ad6ea10"
      },
      "source": [
        "### Exercise 3\n",
        "\n",
        "Input two numbers and save their values in variables named **x** and **y**.\n",
        "\n",
        "Perform all of the above mathematical operations on **x** and **y**.\n"
      ]
    },
    {
      "cell_type": "markdown",
      "metadata": {
        "id": "db8f2f4d"
      },
      "source": [
        "#### Solution"
      ]
    },
    {
      "cell_type": "code",
      "execution_count": null,
      "metadata": {
        "scrolled": false,
        "id": "2997e840",
        "colab": {
          "base_uri": "https://localhost:8080/"
        },
        "outputId": "60ddac9a-4569-40d2-e067-1454c3badf8c"
      },
      "outputs": [
        {
          "output_type": "stream",
          "name": "stdout",
          "text": [
            "x = 5\n",
            "y = 2\n",
            "x =  5\n",
            "y =  2\n",
            "type(x) =  <class 'int'>\n",
            "type(y) =  <class 'int'>\n",
            "---\n",
            "x + y =  7\n",
            "---\n",
            "x - y =  3\n",
            "---\n",
            "x * y =  10\n",
            "---\n",
            "x / y =  2.5\n",
            "---\n",
            "x ** y =  25\n",
            "---\n",
            "x // y =  2\n",
            "---\n",
            "x % y =  1\n"
          ]
        }
      ],
      "source": [
        "# First, let's try to store the values of x and y in variables and then we can perform the operations.\n",
        "x, y = int(float(input('x = '))), int(float(input('y = ')))\n",
        "\n",
        "print('x = ', x)\n",
        "print('y = ', y)\n",
        "print('type(x) = ', type(x))\n",
        "print('type(y) = ', type(y))\n",
        "\n",
        "print('---')\n",
        "\n",
        "res = x + y\n",
        "print('x + y = ', res)\n",
        "\n",
        "print('---')\n",
        "\n",
        "res_sub = x - y\n",
        "print('x - y = ', res_sub)\n",
        "\n",
        "print('---')\n",
        "\n",
        "res_mult = x * y\n",
        "print('x * y = ', res_mult)\n",
        "\n",
        "print('---')\n",
        "\n",
        "res_div = x / y\n",
        "print('x / y = ', res_div)\n",
        "\n",
        "print('---')\n",
        "\n",
        "res_power = x ** y\n",
        "print('x ** y = ', res_power)\n",
        "\n",
        "print('---')\n",
        "\n",
        "res_int_div = x // y\n",
        "print('x // y = ', res_int_div)\n",
        "\n",
        "print('---')\n",
        "\n",
        "res_mod = x % y\n",
        "print('x % y = ', res_mod)"
      ]
    },
    {
      "cell_type": "markdown",
      "source": [
        "**Note**: Try to see what happens when you add **x** and **y** immediately after inputting them using the **input()** function?\n",
        "\n"
      ],
      "metadata": {
        "id": "ACYxM3rNU427"
      }
    },
    {
      "cell_type": "code",
      "source": [
        "result = input() + input()\n",
        "print(result)"
      ],
      "metadata": {
        "id": "Rdwbd4eGU5m-",
        "colab": {
          "base_uri": "https://localhost:8080/"
        },
        "outputId": "8dca0795-9cae-4420-bea2-06806175c8ff"
      },
      "execution_count": null,
      "outputs": [
        {
          "output_type": "stream",
          "name": "stdout",
          "text": [
            "2\n",
            "4\n",
            "24\n"
          ]
        }
      ]
    },
    {
      "cell_type": "markdown",
      "source": [
        "**Note**: Why is this the case?\n",
        "\n",
        "The data we input via the input() function is always a string.\n",
        "Make sure you cast it to the correct data type before performing mathematical operations!"
      ],
      "metadata": {
        "id": "FJ953DpNVfB0"
      }
    },
    {
      "cell_type": "markdown",
      "metadata": {
        "id": "82639cc5"
      },
      "source": [
        "## Comparison operations with int and float variables\n",
        "\n",
        "In Python, we can perform comparison operations with int and float variables.\n",
        "\n",
        "If **x** and **y** are some variables defined in Python, some comparison operations that we can perform on **x** and **y** are:\n",
        "\n",
        "<table style=\"width:100%\">\n",
        "<tr>\n",
        "<td><center><b>Operation</b></center></td>\n",
        "<td><center><b>Python syntax</b></center></td>\n",
        "<td><center><b>Result from performed operation</b></center></td>\n",
        "</tr>\n",
        "\n",
        "<tr>\n",
        "<td><center>Equal</center></td>\n",
        "<td><center>x == y</center></td>\n",
        "<td><center>Returns <b>True</b> if <b>x</b> is <b>equal</b> to <b>y</b>, else returns <b>False</b></center></td>\n",
        "</tr>\n",
        "\n",
        "<tr>\n",
        "<td><center>Not equal</center></td>\n",
        "<td><center>x != y</center></td>\n",
        "<td><center>Returns <b>True</b> if <b>x</b> is <b>not equal</b> to <b>y</b>, else returns <b>False</b></center></td>\n",
        "</tr>\n",
        "\n",
        "<tr>\n",
        "<td><center>Greater than</center></td>\n",
        "<td><center>x > y</center></td>\n",
        "<td><center>Returns <b>True</b> if <b>x</b> is <b>greater than</b> <b>y</b>, else returns <b>False</b></center></td>\n",
        "</tr>\n",
        "\n",
        "<tr>\n",
        "<td><center>Greater than or equal to</center></td>\n",
        "<td><center>x >= y</center></td>\n",
        "<td><center>Returns <b>True</b> if <b>x</b> is <b>greater or equal to</b> <b>y</b>, else returns <b>False</b></center></td>\n",
        "</tr>\n",
        "    \n",
        "<tr>\n",
        "<td><center>Less than</center></td>\n",
        "<td><center>x < y</center></td>\n",
        "<td><center>Returns <b>True</b> if <b>x</b> is <b>less than</b> <b>y</b>, else returns <b>False</b></center></td>\n",
        "</tr>\n",
        "        \n",
        "<tr>\n",
        "<td><center>Less than or equal to</center></td>\n",
        "<td><center>x <= y</center></td>\n",
        "<td><center>Returns <b>True</b> if <b>x</b> is <b>less or equal to</b> <b>y</b>, else returns <b>False</b></center></td>\n",
        "</tr>\n",
        "\n",
        "</table>"
      ]
    },
    {
      "cell_type": "markdown",
      "metadata": {
        "id": "c064d494"
      },
      "source": [
        "### Exercise 4\n",
        "\n",
        "Input two numbers and save their values in variables named **x** and **y**.\n",
        "\n",
        "Remember to cast the variables to their corresponding type. Perform all of the above comparison operations on **x** and **y**."
      ]
    },
    {
      "cell_type": "markdown",
      "metadata": {
        "id": "67025069"
      },
      "source": [
        "#### Solution"
      ]
    },
    {
      "cell_type": "code",
      "execution_count": null,
      "metadata": {
        "scrolled": true,
        "id": "62f5c493",
        "colab": {
          "base_uri": "https://localhost:8080/"
        },
        "outputId": "f9c6a596-8203-428f-9f39-cbacfcec9e88"
      },
      "outputs": [
        {
          "output_type": "stream",
          "name": "stdout",
          "text": [
            "x =  4\n",
            "y =  4\n",
            "---\n",
            "type(res_eq) =  <class 'bool'>\n",
            "x == y :  True\n",
            "---\n",
            "type(res_not_eq) =  <class 'bool'>\n",
            "x != y :  False\n",
            "---\n",
            "type(res_greater) =  <class 'bool'>\n",
            "x > y :  False\n",
            "---\n",
            "type(res_greater_or_eq) =  <class 'bool'>\n",
            "x >= y :  True\n",
            "---\n",
            "type(res_less) =  <class 'bool'>\n",
            "x < y :  False\n",
            "---\n",
            "type(res_less_or_eq) =  <class 'bool'>\n",
            "x <= y :  True\n"
          ]
        }
      ],
      "source": [
        "x, y = 4, 4\n",
        "\n",
        "print('x = ', x)\n",
        "print('y = ', y)\n",
        "\n",
        "print('---')\n",
        "\n",
        "res_eq = x == y\n",
        "print('type(res_eq) = ', type(res_eq))\n",
        "print('x == y : ', res_eq)\n",
        "\n",
        "print('---')\n",
        "\n",
        "res_not_eq = x != y\n",
        "print('type(res_not_eq) = ', type(res_not_eq))\n",
        "print('x != y : ', res_not_eq)\n",
        "\n",
        "print('---')\n",
        "\n",
        "res_greater = x > y\n",
        "print('type(res_greater) = ', type(res_greater))\n",
        "print('x > y : ', res_greater)\n",
        "\n",
        "print('---')\n",
        "\n",
        "res_greater_or_eq = x >= y\n",
        "print('type(res_greater_or_eq) = ', type(res_greater_or_eq))\n",
        "print('x >= y : ', res_greater_or_eq)\n",
        "\n",
        "print('---')\n",
        "\n",
        "res_less = x < y\n",
        "print('type(res_less) = ', type(res_less))\n",
        "print('x < y : ', res_less)\n",
        "\n",
        "print('---')\n",
        "\n",
        "res_less_or_eq = x <= y\n",
        "print('type(res_less_or_eq) = ', type(res_less_or_eq))\n",
        "print('x <= y : ', res_less_or_eq)"
      ]
    },
    {
      "cell_type": "markdown",
      "metadata": {
        "id": "72e5067f"
      },
      "source": [
        "## Logical operations with boolean variables\n",
        "\n",
        "In Python, we can perform logical operations with boolean variables.\n",
        "\n",
        "If **x** and **y** are some variables defined in Python, some operations that we can perform on **x** and **y** are:\n",
        "\n",
        "<table style=\"width:100%\">\n",
        "<tr>\n",
        "<td><center><b>Operation</b></center></td>\n",
        "<td><center><b>Python syntax</b></center></td>\n",
        "<td><center><b>Result from performed operation</b></center></td>\n",
        "</tr>\n",
        "\n",
        "<tr>\n",
        "<td><center>Logical AND</center></td>\n",
        "<td><center>x and y</center></td>\n",
        "<td><center>Returns <b>True</b> if and <i><b>only</b></i> if both <b>x</b> and <b>y</b> are <b>True</b>, else returns <b>False</b></center></td>\n",
        "</tr>\n",
        "\n",
        "<tr>\n",
        "<td><center>Logical OR</center></td>\n",
        "<td><center>x or y</center></td>\n",
        "<td><center>Returns <b>True</b> if <i><b>either</b></i> <b>x</b> is <b>True</b> or <b>y</b> is <b>True</b>. Returns <b>False</b> if and <i><b>only</b></i> if both <b>x</b> and <b>y</b> are <b>False</b></center></td>\n",
        "</tr>\n",
        "\n",
        "<tr>\n",
        "<td><center>Logical NOT</center></td>\n",
        "<td><center>not x</center></td>\n",
        "<td><center>Returns <b>True</b> if <b>x</b> is <b>False</b>, else returns <b>False</b> if <b>x</b> is <b>True</b></center></td>\n",
        "</tr>\n",
        "</table>\n",
        "\n",
        "You can find more about boolean algebra and De Morgan Laws on the following links:\n",
        "\n",
        "- https://en.wikipedia.org/wiki/Boolean_algebra\n",
        "\n",
        "- https://en.wikipedia.org/wiki/De_Morgan%27s_laws"
      ]
    },
    {
      "cell_type": "markdown",
      "metadata": {
        "id": "434c26a9"
      },
      "source": [
        "### Exercise 5\n",
        "\n",
        "Define two boolean variables **x** and **y**. Perform all of the above logical operations on **x** and **y**."
      ]
    },
    {
      "cell_type": "markdown",
      "metadata": {
        "id": "4f5f1e69"
      },
      "source": [
        "#### Solution"
      ]
    },
    {
      "cell_type": "code",
      "execution_count": null,
      "metadata": {
        "id": "d1a66729",
        "colab": {
          "base_uri": "https://localhost:8080/"
        },
        "outputId": "5030397b-d877-4311-bef5-c5e4488543f2"
      },
      "outputs": [
        {
          "output_type": "stream",
          "name": "stdout",
          "text": [
            "False\n",
            "True\n",
            "False\n"
          ]
        }
      ],
      "source": [
        "x, y = True, False\n",
        "\n",
        "res_and = x and y\n",
        "res_or = x or y\n",
        "res_not = not x\n",
        "\n",
        "print(res_and)\n",
        "print(res_or)\n",
        "print(res_not)"
      ]
    },
    {
      "cell_type": "markdown",
      "metadata": {
        "id": "32962eb6"
      },
      "source": [
        "## Strings in Python\n",
        "\n",
        "A string is a collection of alphabetic characters, words or other characters.\n",
        "\n",
        "To work with strings, we use various functions that exist in Python (built-in).\n",
        "\n",
        "Given a string variable defined in Python, **str_var = 'some text'**, here are some operations we can perform:\n",
        "\n",
        "<table style=\"width:100%\">\n",
        "<tr>\n",
        "<td><center><b>Operation</b></center></td>\n",
        "<td><center><b>Python syntax</b></center></td>\n",
        "<td><center><b>Result from performed operation</b></center></td>\n",
        "</tr>\n",
        "\n",
        "<tr>\n",
        "<td><center>Access a symbol at a specific index in the string (the index is <b>always</b> an int)</center></td>\n",
        "<td><center>str_var[index]</center></td>\n",
        "<td><center>Returns the symbol (as a string) at the specific index in str_var</center></td>\n",
        "</tr>\n",
        "\n",
        "<tr>\n",
        "<td><center>Accesing parts (substrings) of the string with slicing</center></td>\n",
        "<td><center>str_var[start_idx : end_idx]</center></td>\n",
        "<td><center>Returns the string from location start_idx to location end_idx - 1 in str_var</center></td>\n",
        "</tr>\n",
        "\n",
        "<tr>\n",
        "<td><center>Finding the length of the string</center></td>\n",
        "<td><center><b>len</b>(str_var)</center></td>\n",
        "<td><center>Returns an int value which is the length (number of characters including whitespaces) of the string</center></td>\n",
        "</tr>\n",
        "\n",
        "<tr>\n",
        "<td><center>Make all letters in a string UPPERCASE</center></td>\n",
        "<td><center>str_var.<b>upper()</b></center></td>\n",
        "<td><center>Returns a new string with all the letters in uppercase</center></td>\n",
        "</tr>\n",
        "\n",
        "<tr>\n",
        "<td><center>Make all letters in a string LOWERCASE</center></td>\n",
        "<td><center>str_var.<b>lower()</b></center></td>\n",
        "<td><center>Returns a new string with all the letters in lowercase</center></td>\n",
        "</tr>\n",
        "\n",
        "<tr>\n",
        "<td><center>Count how many times a symbol occurs in a string</center></td>\n",
        "<td><center>str_var.<b>count</b>(str_symbol_to_count)</center></td>\n",
        "<td><center>Returns an int value which is the number of times the symbol occurs in the string</center></td>\n",
        "</tr>\n",
        "    \n",
        "<tr>\n",
        "<td><center>Find the first position at which a specific symbol is</center></td>\n",
        "<td><center>str_var.<b>find</b>(str_symbol_to_find)</center></td>\n",
        "    <td><center>Returns an int value, i.e. the <b>index</b>, of the first occurrence of the symbol</center></td>\n",
        "</tr>\n",
        "        \n",
        "<tr>\n",
        "<td><center>Split a string with respect to a separator</center></td>\n",
        "<td><center>str_var.<b>split</b>(str_symbol_to_use_for_splitting)</center></td>\n",
        "<td><center>Returns a list of strings that are split with respect to the symbol used for splitting</center></td>\n",
        "</tr>\n",
        "\n",
        "<tr>\n",
        "<td><center>Join a string with respect to a symbol</center></td>\n",
        "<td><center>str_symbol_to_use_for_joining.<b>join</b>(list_of_strings_to_join)</center></td>\n",
        "<td><center>Returns a new string which elements from the list of strings to join are joined with respect to the string symbol to use for joining</center></td>\n",
        "</tr>\n",
        "\n",
        "<tr>\n",
        "<td><center>Replace certain symbol in str_var with another symbol</center></td>\n",
        "<td><center>str_var.<b>replace</b>(str_symbol_to_replace, str_symbol_to_replace_with)</center></td>\n",
        "<td><center>Returns a new string with replace symbols</center></td>\n",
        "</tr>\n",
        "\n",
        "\n",
        "</table>"
      ]
    },
    {
      "cell_type": "markdown",
      "metadata": {
        "id": "99842a7f"
      },
      "source": [
        "### Exercise 6\n",
        "\n",
        "Define a string **x**. Perform all of the above operations on **x**."
      ]
    },
    {
      "cell_type": "markdown",
      "metadata": {
        "id": "c5d8c489"
      },
      "source": [
        "#### Solution"
      ]
    },
    {
      "cell_type": "code",
      "execution_count": null,
      "metadata": {
        "id": "b6c2e584",
        "colab": {
          "base_uri": "https://localhost:8080/"
        },
        "outputId": "65c42c50-e3f0-4e81-ec48-1cd7c13e7741"
      },
      "outputs": [
        {
          "output_type": "stream",
          "name": "stdout",
          "text": [
            "S\n",
            "\n",
            "St\n",
            "\n",
            "15\n",
            "\n",
            "TEST STRING ONE\n",
            "\n",
            "test string one\n",
            "\n",
            "3\n",
            "\n",
            "9\n",
            "\n",
            "['test', 'StRINg', 'ONE']\n",
            "['test StRINg ONE']\n",
            "['test', 'string', '2']\n",
            "\n",
            "test StRINg ONE***test,string,2\n",
            "\n",
            "TesT STRINg ONE\n",
            "test;string;2\n"
          ]
        }
      ],
      "source": [
        "x = \"test StRINg ONE\"\n",
        "y = \"test,string,2\"\n",
        "\n",
        "# Accessing a character at a specific index in the string\n",
        "print(x[5])\n",
        "print()\n",
        "\n",
        "# Access a substring\n",
        "print(x[5:7])\n",
        "print()\n",
        "\n",
        "# Finding the length of a string\n",
        "print(len(x))\n",
        "print()\n",
        "\n",
        "# Making the string uppercase\n",
        "print(x.upper())\n",
        "print()\n",
        "\n",
        "# Making the string lowercase\n",
        "print(x.lower())\n",
        "print()\n",
        "\n",
        "# Finding the number of occurances of a symbol in the string\n",
        "print(x.count('t'))\n",
        "print()\n",
        "\n",
        "# Finding the location of the first appearance of the symbol in the string\n",
        "print(x.find('N'))\n",
        "print()\n",
        "\n",
        "# Spliting the string into a list of strings using a symbol as a 'divider'\n",
        "print(x.split(' '))\n",
        "print(x.split(','))\n",
        "print(y.split(','))\n",
        "print()\n",
        "\n",
        "# Joining a list of strings into one string using a symbol as a 'joiner'\n",
        "print('***'.join([x, y]))\n",
        "print()\n",
        "\n",
        "# Replacing one sybol with another in the string (all occurances)\n",
        "print(x.replace('t', 'T'))\n",
        "print(y.replace(',', ';'))"
      ]
    },
    {
      "cell_type": "markdown",
      "metadata": {
        "id": "ac4f8bf0"
      },
      "source": [
        "## Operations on/with strings\n",
        "\n",
        "We can perform mathematical operations on strings.\n",
        "\n",
        "Given that **x** and **y** are two strings, some operations we can perform are:\n",
        "\n",
        "<table style=\"width:100%\">\n",
        "<tr>\n",
        "<td><center><b>Operation</b></center></td>\n",
        "<td><center><b>Python syntax</b></center></td>\n",
        "<td><center><b>Result from performed operation</b></center></td>\n",
        "</tr>\n",
        "\n",
        "<tr>\n",
        "<td><center>Concatenation (addition)</center></td>\n",
        "<td><center>x + y</center></td>\n",
        "<td><center>Returns a new string which is the text of <b>y</b> glued at the end of the text of <b>x</b></center></td>\n",
        "</tr>\n",
        "\n",
        "<tr>\n",
        "<td><center>Concatenation (multiplication)</center></td>\n",
        "<td><center>x * int_value</center></td>\n",
        "<td><center>Returns a new string which is the text in <b>x</b> glued from the right side int_value times</center></td>\n",
        "</tr>\n",
        "\n",
        "<tr>\n",
        "<td><center>Check if a string is found in another string (as a substring of the original</center></td>\n",
        "<td><center>str_to_check <b>in</b> x</center></td>\n",
        "<td><center>Returns <b>True</b> if <b>str_to_check<b/> is found in <b>x</b></center></td>\n",
        "</tr>\n",
        "\n",
        "</table>"
      ]
    },
    {
      "cell_type": "markdown",
      "source": [
        "We can also compare strings in multiple ways.\n",
        "\n",
        "If **x** and **y** are some string variables defined in Python, some comparison operations that we can perform on **x** and **y** are:\n",
        "\n",
        "<table style=\"width:100%\">\n",
        "<tr>\n",
        "<td><center><b>Operation</b></center></td>\n",
        "<td><center><b>Python syntax</b></center></td>\n",
        "<td><center><b>Result from performed operation</b></center></td>\n",
        "</tr>\n",
        "\n",
        "<tr>\n",
        "<td><center>Equal</center></td>\n",
        "<td><center>x == y</center></td>\n",
        "<td><center>Returns <b>True</b> if every symbol at a specific index in <b>x</b> is <b>equal</b> to the symbol on the same index in <b>y</b>, else returns <b>False</b></center></td>\n",
        "</tr>\n",
        "\n",
        "<tr>\n",
        "<td><center>Not equal</center></td>\n",
        "<td><center>x != y</center></td>\n",
        "<td><center>Returns <b>True</b> if every symbol at a specific index in <b>x</b> is <b>not equal</b> to the symbol on the same index in <b>y</b>, else returns <b>False</b></center></td>\n",
        "</tr>\n",
        "\n",
        "<tr>\n",
        "<td><center>Greater than</center></td>\n",
        "<td><center>x > y</center></td>\n",
        "<td><center>Returns <b>True</b> if <b>x</b> is lexicographically <b>greater than</b> <b>y</b>, else returns <b>False</b></center></td>\n",
        "</tr>\n",
        "\n",
        "<tr>\n",
        "<td><center>Greater than or equal to</center></td>\n",
        "<td><center>x >= y</center></td>\n",
        "<td><center>Returns <b>True</b> if <b>x</b> is lexicographically <b>greater than</b> <b>y</b> or <b>x</b> is <b>equal</b> to <b>y</b>, else returns <b>False</b></center></td>\n",
        "</tr>\n",
        "    \n",
        "<tr>\n",
        "<td><center>Less than</center></td>\n",
        "<td><center>x < y</center></td>\n",
        "<td><center>Returns <b>True</b> if <b>x</b> is lexicographically <b>less than</b> <b>y</b>, else returns <b>False</b></center></td>\n",
        "</tr>\n",
        "        \n",
        "<tr>\n",
        "<td><center>Less than or equal to</center></td>\n",
        "<td><center>x <= y</center></td>\n",
        "<td><center>Returns <b>True</b> if <b>x</b> is lexicographically <b>less than</b> <b>y</b> or <b>x</b> is <b>equal</b> to <b>y</b>, else returns <b>False</b></center></td>\n",
        "</tr>\n",
        "\n",
        "</table>"
      ],
      "metadata": {
        "id": "FpTX0dsSmEtd"
      }
    },
    {
      "cell_type": "markdown",
      "metadata": {
        "id": "c66fc04a"
      },
      "source": [
        "### Exercise 7\n",
        "\n",
        "Define strings **x** and **y**. Perform all of the above operations on them."
      ]
    },
    {
      "cell_type": "markdown",
      "metadata": {
        "id": "1b94a8b2"
      },
      "source": [
        "#### Solution"
      ]
    },
    {
      "cell_type": "code",
      "execution_count": null,
      "metadata": {
        "id": "91b0dc72",
        "colab": {
          "base_uri": "https://localhost:8080/"
        },
        "outputId": "25be50ec-0d02-47b1-be9b-a79aa4d291eb"
      },
      "outputs": [
        {
          "output_type": "stream",
          "name": "stdout",
          "text": [
            "this is xy y YYYY yyy x\n",
            "\n",
            "this is xthis is xthis is x\n",
            "\n",
            "False\n",
            "True\n",
            "\n",
            "False\n",
            "True\n",
            "True\n",
            "True\n"
          ]
        }
      ],
      "source": [
        "x = \"this is x\"\n",
        "y = \"y y YYYY yyy x\"\n",
        "z = \"is\"\n",
        "t = \"is\"\n",
        "\n",
        "# Concatanation of strings\n",
        "print(x + y)\n",
        "print()\n",
        "\n",
        "# Muliplication of string\n",
        "print(3 * x)\n",
        "print()\n",
        "\n",
        "# 'in' operator to check whether one string is a substring of another string\n",
        "print(x in y)\n",
        "print(z in x)\n",
        "print()\n",
        "\n",
        "# Comparing strings\n",
        "print(x == y)\n",
        "print(y != z)\n",
        "print(z == t)\n",
        "print(z < x)"
      ]
    },
    {
      "cell_type": "markdown",
      "source": [
        "## Lists"
      ],
      "metadata": {
        "id": "MX3_ivtBnzn0"
      }
    },
    {
      "cell_type": "markdown",
      "source": [
        "Let's view the following shopping list.\n",
        "\n",
        "\n",
        "1.   Milk\n",
        "2.   Eggs\n",
        "3.   Butter\n",
        "4.   Cheese\n",
        "5.   Oranges\n",
        "\n",
        "\n",
        "We can see that each item has its specific position, i.e. Milk is the first item, Eggs is the second item etc.\n",
        "\n",
        "In other words, each item on the list has its specific index at which it is found. Lists in Python operate in the exact same way."
      ],
      "metadata": {
        "id": "eShRuhkVoV6b"
      }
    },
    {
      "cell_type": "markdown",
      "source": [
        "A **List** in Python is a collection of things, enclosed in [ ] and separated by commas.\n",
        "\n",
        "We enter the **items** in the list in between **[ ]** and separate them by commas.\n",
        "The index value for each item in the list is implicitly assigned, starting from 0 as the index for the first element.\n",
        "\n",
        "**Note:** This is known as zero-based indexing."
      ],
      "metadata": {
        "id": "DgXF5lt4yuB-"
      }
    },
    {
      "cell_type": "code",
      "execution_count": null,
      "metadata": {
        "id": "ce9af1e7",
        "outputId": "7c48a2e6-9cf1-43a0-d644-02a51c5587f2",
        "colab": {
          "base_uri": "https://localhost:8080/"
        }
      },
      "outputs": [
        {
          "output_type": "stream",
          "name": "stdout",
          "text": [
            "shopping_list =  ['Milk', 'Eggs', 'Butter', 'Cheese', 'Oranges']\n"
          ]
        }
      ],
      "source": [
        "shopping_list = ['Milk', 'Eggs', 'Butter', 'Cheese', 'Oranges']\n",
        "\n",
        "# shopping_list = ['Milk',\n",
        "#                  'Eggs',\n",
        "#                  'Butter',\n",
        "#                  'Cheese',\n",
        "#                  'Oranges']\n",
        "\n",
        "print('shopping_list = ', shopping_list)"
      ]
    },
    {
      "cell_type": "markdown",
      "metadata": {
        "id": "9dd848dd"
      },
      "source": [
        "Python is a language that allows list items to be of any type, even different types of items are allowed within a list (which is not the case in other languages).\n",
        "\n",
        "Let's see the following example and answer: what is the type of each element?"
      ]
    },
    {
      "cell_type": "code",
      "execution_count": null,
      "metadata": {
        "id": "821cfab4",
        "outputId": "c0d6102d-4c9a-46fb-97f2-534d354c52d2",
        "colab": {
          "base_uri": "https://localhost:8080/"
        }
      },
      "outputs": [
        {
          "output_type": "execute_result",
          "data": {
            "text/plain": [
              "[7, 2.3, 'text', True, [-4, -3.2, 'text in another list', False]]"
            ]
          },
          "metadata": {},
          "execution_count": 129
        }
      ],
      "source": [
        "x = [7, 2.3, 'text', True, [-4, -3.2, 'text in another list', False]]\n",
        "x"
      ]
    },
    {
      "cell_type": "markdown",
      "source": [
        "### Accessing and working with list items\n",
        "\n",
        "\n",
        "We can access list elements (items) using their index value, which starts at **0** and ends at **n-1** for a list with length **n**.\n",
        "\n",
        "This is called accessing items with **indexing**.\n"
      ],
      "metadata": {
        "id": "DHSnXC1h1MIF"
      }
    },
    {
      "cell_type": "code",
      "source": [
        "# Access the element at index 0\n",
        "print(x[0])\n",
        "\n",
        "# Access the element at index 1\n",
        "print(x[1])\n",
        "\n",
        "# If we access the element at index -1 we actually access the last element\n",
        "print(x[-1])"
      ],
      "metadata": {
        "colab": {
          "base_uri": "https://localhost:8080/"
        },
        "id": "uVYSuvcQ1FUr",
        "outputId": "c1f84a41-0898-46c6-e22c-bf61b8a3ad17"
      },
      "execution_count": null,
      "outputs": [
        {
          "output_type": "stream",
          "name": "stdout",
          "text": [
            "7\n",
            "2.3\n",
            "[-4, -3.2, 'text in another list', False]\n"
          ]
        }
      ]
    },
    {
      "cell_type": "code",
      "source": [
        "# If the element we access is a list, we can further access its elements\n",
        "print(x[-1][0])\n",
        "print(x[-1][2])"
      ],
      "metadata": {
        "colab": {
          "base_uri": "https://localhost:8080/"
        },
        "id": "QlhAjkZM1hq6",
        "outputId": "988df699-bb4f-4ef3-9d96-0359daa1234a"
      },
      "execution_count": null,
      "outputs": [
        {
          "output_type": "stream",
          "name": "stdout",
          "text": [
            "-4\n",
            "text in another list\n"
          ]
        }
      ]
    },
    {
      "cell_type": "markdown",
      "source": [
        "We can access multiple subsequent items of a list using **slicing**."
      ],
      "metadata": {
        "id": "dw7-C79U2OkM"
      }
    },
    {
      "cell_type": "code",
      "source": [
        "# We can access the items from beginning until before the index specified (in this case items with index 0, 1, 2) i.e. index after ':' is excluded\n",
        "print(x[:3])\n",
        "\n",
        "# We can access the items from the index specified until the end of the list (in this case items with index 3, 4), i.e. index before ':' is included\n",
        "print(x[3:])\n",
        "\n",
        "# We can access all list items in both these ways\n",
        "print(x)\n",
        "print(x[:])\n",
        "\n",
        "# We can combine two index values and access elements between them, rules for indexes before and after ':' are the same here as well\n",
        "print(x[1:3])\n",
        "\n",
        "# We can access every k-th item of a list using the same syntax as before, but adding a k value signifing the step size\n",
        "x = [1, 2, 3, 4, 5, 6, 7]\n",
        "print(x[0 : 7 : 3])"
      ],
      "metadata": {
        "colab": {
          "base_uri": "https://localhost:8080/"
        },
        "id": "yefdfrOe2gG0",
        "outputId": "d2d6790e-7f0c-4941-ad03-88d9c02cca10"
      },
      "execution_count": null,
      "outputs": [
        {
          "output_type": "stream",
          "name": "stdout",
          "text": [
            "[1, 2, 3]\n",
            "[4, 5, 6, 7]\n",
            "[1, 2, 3, 4, 5, 6, 7]\n",
            "[1, 2, 3, 4, 5, 6, 7]\n",
            "[2, 3]\n",
            "[1, 4, 7]\n"
          ]
        }
      ]
    },
    {
      "cell_type": "markdown",
      "source": [
        "We can change an item in the list in the following manner."
      ],
      "metadata": {
        "id": "Pqcw2EuD4Om_"
      }
    },
    {
      "cell_type": "code",
      "source": [
        "x = [1, 20, 3, 45, 5, 6, 7]\n",
        "print('x = ', x)\n",
        "\n",
        "x[1] = -100\n",
        "print('x = ', x)"
      ],
      "metadata": {
        "colab": {
          "base_uri": "https://localhost:8080/"
        },
        "id": "SEfzQXWX4XE3",
        "outputId": "2960b458-fcfb-4f01-94c0-ba34ecdeb374"
      },
      "execution_count": null,
      "outputs": [
        {
          "output_type": "stream",
          "name": "stdout",
          "text": [
            "x =  [1, 20, 3, 45, 5, 6, 7]\n",
            "x =  [1, -100, 3, 45, 5, 6, 7]\n"
          ]
        }
      ]
    },
    {
      "cell_type": "markdown",
      "source": [
        "### Functions for working with lists\n"
      ],
      "metadata": {
        "id": "iDe_cDOY428t"
      }
    },
    {
      "cell_type": "markdown",
      "source": [
        "#### **append()**"
      ],
      "metadata": {
        "id": "W1awyNsz5TyF"
      }
    },
    {
      "cell_type": "code",
      "source": [
        "x = [1, 2, 3]\n",
        "x"
      ],
      "metadata": {
        "colab": {
          "base_uri": "https://localhost:8080/"
        },
        "id": "s23TgYUO5h3e",
        "outputId": "d8022db4-3ec2-4809-e599-c90c5aa2b350"
      },
      "execution_count": null,
      "outputs": [
        {
          "output_type": "execute_result",
          "data": {
            "text/plain": [
              "[1, 2, 3]"
            ]
          },
          "metadata": {},
          "execution_count": 136
        }
      ]
    },
    {
      "cell_type": "code",
      "source": [
        "# We can use the 'append' function to add one element at the end of the list\n",
        "x.append(-1)\n",
        "print(x)\n",
        "print()\n",
        "\n",
        "# We can use the 'append' function to add a list at the end of the list\n",
        "x.append([1, 2, 3])\n",
        "print(x)\n",
        "print()"
      ],
      "metadata": {
        "colab": {
          "base_uri": "https://localhost:8080/"
        },
        "id": "z3X5_vUh5o6E",
        "outputId": "8df830ad-725e-4036-e471-49c51abfc3bd"
      },
      "execution_count": null,
      "outputs": [
        {
          "output_type": "stream",
          "name": "stdout",
          "text": [
            "[1, 2, 3, -1]\n",
            "\n",
            "[1, 2, 3, -1, [1, 2, 3]]\n",
            "\n"
          ]
        }
      ]
    },
    {
      "cell_type": "markdown",
      "source": [
        "#### **extend(list)**"
      ],
      "metadata": {
        "id": "UUV5e5ju6L2B"
      }
    },
    {
      "cell_type": "code",
      "source": [
        "x = [1, 2, 3]\n",
        "\n",
        "# We can add multiple items from one list at the end of another list\n",
        "x.extend(['text', -10, 0.2])\n",
        "print(x)\n",
        "print()"
      ],
      "metadata": {
        "colab": {
          "base_uri": "https://localhost:8080/"
        },
        "id": "AIxmXvBQ6OUk",
        "outputId": "36090920-6b75-486d-af89-6b1914f52572"
      },
      "execution_count": null,
      "outputs": [
        {
          "output_type": "stream",
          "name": "stdout",
          "text": [
            "[1, 2, 3, 'text', -10, 0.2]\n",
            "\n"
          ]
        }
      ]
    },
    {
      "cell_type": "markdown",
      "source": [
        "#### **count(item)**"
      ],
      "metadata": {
        "id": "DQAkKy_W6qcx"
      }
    },
    {
      "cell_type": "code",
      "source": [
        "x = [1, 2, 3, 2, 5, 1, 1, 2, 2, 3, 1, 3, 1, [1, 2, 3, 5]]\n",
        "x"
      ],
      "metadata": {
        "colab": {
          "base_uri": "https://localhost:8080/"
        },
        "id": "6lXZBUsG6ybT",
        "outputId": "348c6d26-1e22-4e1e-cc8d-8e29dd510a41"
      },
      "execution_count": null,
      "outputs": [
        {
          "output_type": "execute_result",
          "data": {
            "text/plain": [
              "[1, 2, 3, 2, 5, 1, 1, 2, 2, 3, 1, 3, 1, [1, 2, 3, 5]]"
            ]
          },
          "metadata": {},
          "execution_count": 141
        }
      ]
    },
    {
      "cell_type": "code",
      "source": [
        "# We can count how many times an item is present in the list in this manner\n",
        "count = x.count(5)\n",
        "print(count)"
      ],
      "metadata": {
        "colab": {
          "base_uri": "https://localhost:8080/"
        },
        "id": "G_d4d0kv64l6",
        "outputId": "e07f219e-02f9-4be7-a199-654ccddad4ad"
      },
      "execution_count": null,
      "outputs": [
        {
          "output_type": "stream",
          "name": "stdout",
          "text": [
            "1\n"
          ]
        }
      ]
    },
    {
      "cell_type": "code",
      "source": [
        "x.count([1, 2, 3, 5])"
      ],
      "metadata": {
        "colab": {
          "base_uri": "https://localhost:8080/"
        },
        "id": "zcjJ7ugH-e8I",
        "outputId": "f63a1792-f2a6-401c-c835-2c2b558592f3"
      },
      "execution_count": null,
      "outputs": [
        {
          "output_type": "execute_result",
          "data": {
            "text/plain": [
              "1"
            ]
          },
          "metadata": {},
          "execution_count": 144
        }
      ]
    },
    {
      "cell_type": "markdown",
      "source": [
        "#### **index(item)**"
      ],
      "metadata": {
        "id": "zKrdcntz-tzx"
      }
    },
    {
      "cell_type": "code",
      "source": [
        "# We can find the index of an item in the list\n",
        "x = [1, 2, 3]\n",
        "x.index(3)"
      ],
      "metadata": {
        "colab": {
          "base_uri": "https://localhost:8080/"
        },
        "id": "FOr6GyFV-zHg",
        "outputId": "11f33368-6fdf-4b77-862e-7609298b888c"
      },
      "execution_count": null,
      "outputs": [
        {
          "output_type": "execute_result",
          "data": {
            "text/plain": [
              "2"
            ]
          },
          "metadata": {},
          "execution_count": 145
        }
      ]
    },
    {
      "cell_type": "markdown",
      "source": [
        "#### **pop(index)**"
      ],
      "metadata": {
        "id": "d-hy8FXi_BDe"
      }
    },
    {
      "cell_type": "code",
      "source": [
        "# We can use the 'pop' function to remove and return a list item given its index\n",
        "x = [1, 2, 3]\n",
        "\n",
        "deleted = x.pop(0)\n",
        "print(deleted)\n",
        "print(x)"
      ],
      "metadata": {
        "colab": {
          "base_uri": "https://localhost:8080/"
        },
        "id": "JMONsLiP_HLX",
        "outputId": "8f5330da-0772-4673-a8a2-a3f5212b8917"
      },
      "execution_count": null,
      "outputs": [
        {
          "output_type": "stream",
          "name": "stdout",
          "text": [
            "1\n",
            "[2, 3]\n"
          ]
        }
      ]
    },
    {
      "cell_type": "code",
      "source": [
        "# If we don't specify an index for the position of th item we want removed, the last item is removed\n",
        "x = [1, 2, 3]\n",
        "\n",
        "print(x.pop())\n",
        "print(x)"
      ],
      "metadata": {
        "colab": {
          "base_uri": "https://localhost:8080/"
        },
        "id": "IOXtcS8y_bFC",
        "outputId": "9f20c007-6b08-4c90-bc67-b75c9beaeeb5"
      },
      "execution_count": null,
      "outputs": [
        {
          "output_type": "stream",
          "name": "stdout",
          "text": [
            "3\n",
            "[1, 2]\n"
          ]
        }
      ]
    },
    {
      "cell_type": "markdown",
      "source": [
        "#### **sort()** and **sorted()**"
      ],
      "metadata": {
        "id": "pJU7Ppbq_rAZ"
      }
    },
    {
      "cell_type": "code",
      "source": [
        "# We can sort a list using the 'sort' function, and in the 'reverse' parameter we can specify if we want a natural or reversed order\n",
        "x = [1, 2, 3]\n",
        "\n",
        "x.sort(reverse=True)\n",
        "x"
      ],
      "metadata": {
        "colab": {
          "base_uri": "https://localhost:8080/"
        },
        "id": "xyZ2wn9D_wgZ",
        "outputId": "de7bde00-df18-4e20-b81b-df10ee97e096"
      },
      "execution_count": null,
      "outputs": [
        {
          "output_type": "execute_result",
          "data": {
            "text/plain": [
              "[3, 2, 1]"
            ]
          },
          "metadata": {},
          "execution_count": 160
        }
      ]
    },
    {
      "cell_type": "code",
      "source": [
        "x = [4, 2, 1, 6]\n",
        "\n",
        "x.sort()\n",
        "x"
      ],
      "metadata": {
        "colab": {
          "base_uri": "https://localhost:8080/"
        },
        "id": "gQ_ZBGmaALBm",
        "outputId": "705e2ecb-4773-47e1-b9b9-16642744a990"
      },
      "execution_count": null,
      "outputs": [
        {
          "output_type": "execute_result",
          "data": {
            "text/plain": [
              "[1, 2, 4, 6]"
            ]
          },
          "metadata": {},
          "execution_count": 161
        }
      ]
    },
    {
      "cell_type": "code",
      "source": [
        "# We can also use 'sorted(list)' function in a similar manner\n",
        "x = [4, 2, 1, 6]\n",
        "\n",
        "x = sorted(x, reverse=True)\n",
        "x"
      ],
      "metadata": {
        "colab": {
          "base_uri": "https://localhost:8080/"
        },
        "id": "ZpDmehMBAQhX",
        "outputId": "843c9bcb-ddd1-419f-c2f3-17e2ef690bce"
      },
      "execution_count": null,
      "outputs": [
        {
          "output_type": "execute_result",
          "data": {
            "text/plain": [
              "[6, 4, 2, 1]"
            ]
          },
          "metadata": {},
          "execution_count": 162
        }
      ]
    },
    {
      "cell_type": "markdown",
      "source": [
        "#### **del()**"
      ],
      "metadata": {
        "id": "zAK1p-DtAi4m"
      }
    },
    {
      "cell_type": "code",
      "source": [
        "# We can delete list items by their index value\n",
        "x = [1, 2, 3]\n",
        "del x[0]\n",
        "\n",
        "x"
      ],
      "metadata": {
        "colab": {
          "base_uri": "https://localhost:8080/"
        },
        "id": "l0sSIiAPAmpB",
        "outputId": "a1fb4a0c-5d03-4b8b-f064-056e8086d3a6"
      },
      "execution_count": null,
      "outputs": [
        {
          "output_type": "execute_result",
          "data": {
            "text/plain": [
              "[2, 3]"
            ]
          },
          "metadata": {},
          "execution_count": 148
        }
      ]
    },
    {
      "cell_type": "code",
      "source": [
        "# We can delete the entire list in the following manner\n",
        "# However, we can not work with it afterwards, as it no longer exists\n",
        "x = [1, 2, 3]\n",
        "del x\n",
        "\n",
        "x"
      ],
      "metadata": {
        "colab": {
          "base_uri": "https://localhost:8080/",
          "height": 176
        },
        "id": "4Nqpg8PHBf0Q",
        "outputId": "c6891abc-0730-4a1e-c620-ee48dad0d28f"
      },
      "execution_count": null,
      "outputs": [
        {
          "output_type": "error",
          "ename": "NameError",
          "evalue": "name 'x' is not defined",
          "traceback": [
            "\u001b[0;31m---------------------------------------------------------------------------\u001b[0m",
            "\u001b[0;31mNameError\u001b[0m                                 Traceback (most recent call last)",
            "\u001b[0;32m<ipython-input-149-900204d8040e>\u001b[0m in \u001b[0;36m<cell line: 6>\u001b[0;34m()\u001b[0m\n\u001b[1;32m      4\u001b[0m \u001b[0;32mdel\u001b[0m \u001b[0mx\u001b[0m\u001b[0;34m\u001b[0m\u001b[0;34m\u001b[0m\u001b[0m\n\u001b[1;32m      5\u001b[0m \u001b[0;34m\u001b[0m\u001b[0m\n\u001b[0;32m----> 6\u001b[0;31m \u001b[0mx\u001b[0m\u001b[0;34m\u001b[0m\u001b[0;34m\u001b[0m\u001b[0m\n\u001b[0m",
            "\u001b[0;31mNameError\u001b[0m: name 'x' is not defined"
          ]
        }
      ]
    },
    {
      "cell_type": "markdown",
      "source": [
        "### Operations with lists"
      ],
      "metadata": {
        "id": "jOueFJt7CMaT"
      }
    },
    {
      "cell_type": "markdown",
      "source": [
        "#### Creating an empty list"
      ],
      "metadata": {
        "id": "oD-_YwPmCXUV"
      }
    },
    {
      "cell_type": "code",
      "source": [
        "x = []\n",
        "x"
      ],
      "metadata": {
        "colab": {
          "base_uri": "https://localhost:8080/"
        },
        "id": "M3VGsbRsBqgY",
        "outputId": "fe6557eb-86ce-4e52-b136-22622c4546bf"
      },
      "execution_count": null,
      "outputs": [
        {
          "output_type": "execute_result",
          "data": {
            "text/plain": [
              "[]"
            ]
          },
          "metadata": {},
          "execution_count": 163
        }
      ]
    },
    {
      "cell_type": "code",
      "source": [
        "x = list()\n",
        "x"
      ],
      "metadata": {
        "colab": {
          "base_uri": "https://localhost:8080/"
        },
        "id": "CNE2RtxoIUwF",
        "outputId": "9edc2747-9e17-427d-c65d-4e9fe8f22817"
      },
      "execution_count": null,
      "outputs": [
        {
          "output_type": "execute_result",
          "data": {
            "text/plain": [
              "[]"
            ]
          },
          "metadata": {},
          "execution_count": 164
        }
      ]
    },
    {
      "cell_type": "markdown",
      "source": [
        "#### Creating a list using the **range()** function and casting\n",
        "\n",
        "\n",
        "The **range()** function is a very useful Pyhton function.\n",
        "It returns a sequence of numbers, starting from 0 by default, and increments by 1 (by default), stopping before a specified number.\n",
        "\n",
        "In other words, this function returns a sequence of numbers 0, 1, 2, ..., n-1 for n as a specified number (default behaviour)."
      ],
      "metadata": {
        "id": "rOGv7oqbFJue"
      }
    },
    {
      "cell_type": "code",
      "source": [
        "start, stop, step = 0, 3, 1\n",
        "x = range(start, stop, step)\n",
        "x"
      ],
      "metadata": {
        "colab": {
          "base_uri": "https://localhost:8080/"
        },
        "id": "Qjj7hHzqFjHJ",
        "outputId": "b468b351-dbc7-4877-f2c5-aa45c6560daa"
      },
      "execution_count": null,
      "outputs": [
        {
          "output_type": "execute_result",
          "data": {
            "text/plain": [
              "range(0, 3)"
            ]
          },
          "metadata": {},
          "execution_count": 168
        }
      ]
    },
    {
      "cell_type": "code",
      "source": [
        "result = list(x)\n",
        "result"
      ],
      "metadata": {
        "colab": {
          "base_uri": "https://localhost:8080/"
        },
        "id": "SYXe5m4jF-Wd",
        "outputId": "1a2cc2f3-a487-4947-cc0c-5ac53ed15f76"
      },
      "execution_count": null,
      "outputs": [
        {
          "output_type": "execute_result",
          "data": {
            "text/plain": [
              "[0, 1, 2]"
            ]
          },
          "metadata": {},
          "execution_count": 169
        }
      ]
    },
    {
      "cell_type": "code",
      "source": [
        "y = range(1, 10, 2)\n",
        "list(y)"
      ],
      "metadata": {
        "colab": {
          "base_uri": "https://localhost:8080/"
        },
        "id": "ga7FPTCCIX5T",
        "outputId": "e8c39203-31a3-4fcf-8dee-c7870ff0f419"
      },
      "execution_count": null,
      "outputs": [
        {
          "output_type": "execute_result",
          "data": {
            "text/plain": [
              "[1, 3, 5, 7, 9]"
            ]
          },
          "metadata": {},
          "execution_count": 170
        }
      ]
    },
    {
      "cell_type": "markdown",
      "source": [
        "#### Arithmetic, Comparison and Logical operations\n"
      ],
      "metadata": {
        "id": "zCPViQM_Dpcm"
      }
    },
    {
      "cell_type": "code",
      "source": [
        "# Addition\n",
        "x = [1, 2, 3]\n",
        "y = [4, 5, 6]\n",
        "\n",
        "print(x + y)\n",
        "print(y + x)"
      ],
      "metadata": {
        "colab": {
          "base_uri": "https://localhost:8080/"
        },
        "id": "5mljKmmaCcpQ",
        "outputId": "5d88376f-6368-4922-8b1b-e6f613863e94"
      },
      "execution_count": null,
      "outputs": [
        {
          "output_type": "stream",
          "name": "stdout",
          "text": [
            "[1, 2, 3, 4, 5, 6]\n",
            "[4, 5, 6, 1, 2, 3]\n"
          ]
        }
      ]
    },
    {
      "cell_type": "code",
      "source": [
        "# Multiplying with a constant\n",
        "print(x * 3)\n",
        "print(3 * x)"
      ],
      "metadata": {
        "colab": {
          "base_uri": "https://localhost:8080/"
        },
        "id": "ZeY7zN6TEEUC",
        "outputId": "76f4f9ac-e714-4459-b9bd-08da00c378a8"
      },
      "execution_count": null,
      "outputs": [
        {
          "output_type": "stream",
          "name": "stdout",
          "text": [
            "[1, 2, 3, 1, 2, 3, 1, 2, 3]\n",
            "[1, 2, 3, 1, 2, 3, 1, 2, 3]\n"
          ]
        }
      ]
    },
    {
      "cell_type": "code",
      "source": [
        "# Equality check\n",
        "print(x == y)\n",
        "print(x != y)"
      ],
      "metadata": {
        "colab": {
          "base_uri": "https://localhost:8080/"
        },
        "id": "ReKwR5XEEkM6",
        "outputId": "7605381e-5075-4a6f-da02-60eb3ff3f731"
      },
      "execution_count": null,
      "outputs": [
        {
          "output_type": "stream",
          "name": "stdout",
          "text": [
            "False\n",
            "True\n"
          ]
        }
      ]
    },
    {
      "cell_type": "code",
      "source": [
        "# Other comparisons\n",
        "print(x > y)\n",
        "print(x <= y)"
      ],
      "metadata": {
        "colab": {
          "base_uri": "https://localhost:8080/"
        },
        "id": "ck5vjfpNEtAs",
        "outputId": "116abeb0-d472-4819-8fa2-3f2ef1a02cc7"
      },
      "execution_count": null,
      "outputs": [
        {
          "output_type": "stream",
          "name": "stdout",
          "text": [
            "False\n",
            "True\n"
          ]
        }
      ]
    },
    {
      "cell_type": "markdown",
      "source": [
        "## Tuples"
      ],
      "metadata": {
        "id": "hjIXGyjFIwOS"
      }
    },
    {
      "cell_type": "markdown",
      "source": [
        "A **Tuple** is a collection of objects separated by commas and enclosed by ( ).\n",
        "\n",
        "In some ways, a tuple is similar to a Python list in terms of indexing, nested objects, and repetition of items (elements).\n",
        "\n",
        "However, there is a major difference between lists and tuples: **tuples are immutable**, whereas lists are mutable.\n"
      ],
      "metadata": {
        "id": "P5kTipqcI029"
      }
    },
    {
      "cell_type": "markdown",
      "source": [
        "#### Accessing and working with tuple items"
      ],
      "metadata": {
        "id": "pqTrpyUGM10z"
      }
    },
    {
      "cell_type": "code",
      "source": [
        "# We can access tuple elements in the same manner as lists using their indexes\n",
        "x = (1, 2, 3, 4)\n",
        "\n",
        "print(x)\n",
        "print(x[3])"
      ],
      "metadata": {
        "colab": {
          "base_uri": "https://localhost:8080/"
        },
        "id": "c9h471ECIxib",
        "outputId": "c034d373-d56a-4b1b-8ae6-340df216c1aa"
      },
      "execution_count": null,
      "outputs": [
        {
          "output_type": "stream",
          "name": "stdout",
          "text": [
            "(1, 2, 3, 4)\n",
            "4\n"
          ]
        }
      ]
    },
    {
      "cell_type": "code",
      "source": [
        "# However, we can not re-assign value to items, as tuples are immutable\n",
        "x[3] = 4"
      ],
      "metadata": {
        "colab": {
          "base_uri": "https://localhost:8080/",
          "height": 165
        },
        "id": "CbwXq3ixNJCf",
        "outputId": "9ec9abd6-09ed-4a8a-cb9f-27a68d68a0fe"
      },
      "execution_count": null,
      "outputs": [
        {
          "output_type": "error",
          "ename": "TypeError",
          "evalue": "'tuple' object does not support item assignment",
          "traceback": [
            "\u001b[0;31m---------------------------------------------------------------------------\u001b[0m",
            "\u001b[0;31mTypeError\u001b[0m                                 Traceback (most recent call last)",
            "\u001b[0;32m<ipython-input-127-5a2dee85d927>\u001b[0m in \u001b[0;36m<cell line: 2>\u001b[0;34m()\u001b[0m\n\u001b[1;32m      1\u001b[0m \u001b[0;31m# However, we can not re-assign value to items, as tuples are immutable\u001b[0m\u001b[0;34m\u001b[0m\u001b[0;34m\u001b[0m\u001b[0m\n\u001b[0;32m----> 2\u001b[0;31m \u001b[0mx\u001b[0m\u001b[0;34m[\u001b[0m\u001b[0;36m3\u001b[0m\u001b[0;34m]\u001b[0m \u001b[0;34m=\u001b[0m \u001b[0;36m4\u001b[0m\u001b[0;34m\u001b[0m\u001b[0;34m\u001b[0m\u001b[0m\n\u001b[0m",
            "\u001b[0;31mTypeError\u001b[0m: 'tuple' object does not support item assignment"
          ]
        }
      ]
    },
    {
      "cell_type": "code",
      "source": [
        "# We can also use slicing on tuples\n",
        "x = (3, 4, 10, 2)\n",
        "print(x[:4])\n",
        "print(x[2:4])"
      ],
      "metadata": {
        "colab": {
          "base_uri": "https://localhost:8080/"
        },
        "id": "07Vz9fZaNLH5",
        "outputId": "1641782a-196a-42f7-a8d1-d019562051bb"
      },
      "execution_count": null,
      "outputs": [
        {
          "output_type": "stream",
          "name": "stdout",
          "text": [
            "(3, 4, 10, 2)\n",
            "(10, 2)\n"
          ]
        }
      ]
    },
    {
      "cell_type": "markdown",
      "source": [
        "### Functions for working with tuples\n",
        "\n",
        "Tuples in Python have only two built-in functions: **count()** and **index()**.\n",
        "\n",
        "The functions work in the same manner as with lists.\n"
      ],
      "metadata": {
        "id": "1Y-M3qe9OFJF"
      }
    },
    {
      "cell_type": "markdown",
      "source": [
        "#### **count()**"
      ],
      "metadata": {
        "id": "BiVbDTNqOuby"
      }
    },
    {
      "cell_type": "code",
      "source": [
        "# We can count how many times an item is present in the tuple in this manner\n",
        "x = (1, 2, 2, 3, 4)\n",
        "x.count(2)"
      ],
      "metadata": {
        "colab": {
          "base_uri": "https://localhost:8080/"
        },
        "id": "dBbtRN_6N8lO",
        "outputId": "d310eb58-31ea-42cf-c3b0-99d1fb98eea0"
      },
      "execution_count": null,
      "outputs": [
        {
          "output_type": "execute_result",
          "data": {
            "text/plain": [
              "2"
            ]
          },
          "metadata": {},
          "execution_count": 129
        }
      ]
    },
    {
      "cell_type": "markdown",
      "source": [
        "#### **index()**"
      ],
      "metadata": {
        "id": "a5TWobRWOz5b"
      }
    },
    {
      "cell_type": "code",
      "source": [
        "# We can use the 'index()' function in the same manner as with lists\n",
        "x = (1, 2, 3, 4, 3)\n",
        "x.index(3)"
      ],
      "metadata": {
        "colab": {
          "base_uri": "https://localhost:8080/"
        },
        "id": "IeRWrePHO13g",
        "outputId": "5779e73a-f7b2-4a86-f511-33f7b1e8a301"
      },
      "execution_count": null,
      "outputs": [
        {
          "output_type": "execute_result",
          "data": {
            "text/plain": [
              "2"
            ]
          },
          "metadata": {},
          "execution_count": 130
        }
      ]
    },
    {
      "cell_type": "markdown",
      "source": [
        "### Operations with tuples"
      ],
      "metadata": {
        "id": "DSfP75CYP084"
      }
    },
    {
      "cell_type": "markdown",
      "source": [
        "#### Creating an empty tuple"
      ],
      "metadata": {
        "id": "uuvI2V1eQ5-a"
      }
    },
    {
      "cell_type": "code",
      "source": [
        "x = ()\n",
        "x"
      ],
      "metadata": {
        "colab": {
          "base_uri": "https://localhost:8080/"
        },
        "id": "QpyTMYSOPtyc",
        "outputId": "1e4583a7-9ae3-4d6b-d212-35df35e8a6e0"
      },
      "execution_count": null,
      "outputs": [
        {
          "output_type": "execute_result",
          "data": {
            "text/plain": [
              "()"
            ]
          },
          "metadata": {},
          "execution_count": 131
        }
      ]
    },
    {
      "cell_type": "markdown",
      "source": [
        "#### Arithmetic / Comparison / Logical operations with tuples\n",
        "\n",
        "All the operations we learned so far work with tuples as well.\n",
        "Try all of them out as an exercise!"
      ],
      "metadata": {
        "id": "Mhavl59xRQaY"
      }
    },
    {
      "cell_type": "code",
      "source": [
        "x = (1, 2, 3)\n",
        "y = (4, 5, 6)\n",
        "\n",
        "x + y"
      ],
      "metadata": {
        "colab": {
          "base_uri": "https://localhost:8080/"
        },
        "id": "FJqdxMIqRFy_",
        "outputId": "54bb6fa9-e2b1-4d2b-ffef-1547346ca2fa"
      },
      "execution_count": null,
      "outputs": [
        {
          "output_type": "execute_result",
          "data": {
            "text/plain": [
              "(1, 2, 3, 4, 5, 6)"
            ]
          },
          "metadata": {},
          "execution_count": 132
        }
      ]
    },
    {
      "cell_type": "code",
      "source": [
        "x = (1, 2, 3, 4)\n",
        "\n",
        "x * 3"
      ],
      "metadata": {
        "colab": {
          "base_uri": "https://localhost:8080/"
        },
        "id": "Lz8eqiogRTv7",
        "outputId": "96ffdce4-cc2d-4d0f-a6b7-dfad52033485"
      },
      "execution_count": null,
      "outputs": [
        {
          "output_type": "execute_result",
          "data": {
            "text/plain": [
              "(1, 2, 3, 4, 1, 2, 3, 4, 1, 2, 3, 4)"
            ]
          },
          "metadata": {},
          "execution_count": 133
        }
      ]
    },
    {
      "cell_type": "code",
      "source": [
        "x = (1, 2, 3)\n",
        "y = (1, 4, 10)\n",
        "\n",
        "x == y"
      ],
      "metadata": {
        "colab": {
          "base_uri": "https://localhost:8080/"
        },
        "id": "VAPIqPAARWqn",
        "outputId": "97a104c4-7d85-4dec-d234-31b78ca51e62"
      },
      "execution_count": null,
      "outputs": [
        {
          "output_type": "execute_result",
          "data": {
            "text/plain": [
              "False"
            ]
          },
          "metadata": {},
          "execution_count": 134
        }
      ]
    },
    {
      "cell_type": "code",
      "source": [
        "x = (1, 2, 6)\n",
        "y = (1, 4, 3)\n",
        "\n",
        "x > y"
      ],
      "metadata": {
        "colab": {
          "base_uri": "https://localhost:8080/"
        },
        "id": "4qbb78RVRaLJ",
        "outputId": "61852df5-a2e5-44dc-b325-905b099f76ab"
      },
      "execution_count": null,
      "outputs": [
        {
          "output_type": "execute_result",
          "data": {
            "text/plain": [
              "False"
            ]
          },
          "metadata": {},
          "execution_count": 135
        }
      ]
    },
    {
      "cell_type": "markdown",
      "source": [
        "### Casting from a tuple to a list\n",
        "\n",
        "Since tuples in Python are immutable, we cannot change the data that they store.\n",
        "\n",
        "This is useful when we don't want to modify/delete data (items/elements).\n",
        "\n",
        "However, in some cases we will need to work with the data that is stored in a tuple, i.e. change it in some manner. To do so, the easiest way is to cast the tuple into a list.\n",
        "\n",
        "Casting a tuple into a list can be done using the **list(tuple)** function.\n",
        "Then, we can alter the list in any way, as with any other list.\n",
        "After we are done modifying, we can also cast a list back to a tuple using the **tuple(list)** function.\n"
      ],
      "metadata": {
        "id": "gbIT3wBzR2sR"
      }
    },
    {
      "cell_type": "code",
      "source": [
        "x = (1, 2, 3, 4)\n",
        "\n",
        "print('type(x) = ', type(x))\n",
        "print('x = ', x)\n",
        "print('---')\n",
        "\n",
        "x = list(x)\n",
        "\n",
        "print('type(x) = ', type(x))\n",
        "print('x = ', x)\n",
        "print('---')\n",
        "\n",
        "x[0] = -10\n",
        "\n",
        "x = tuple(x)\n",
        "\n",
        "print('type(x) = ', type(x))\n",
        "print('x = ', x)\n",
        "print('---')"
      ],
      "metadata": {
        "colab": {
          "base_uri": "https://localhost:8080/"
        },
        "id": "slaPNk8QRxA4",
        "outputId": "244a9997-06c0-4be0-df4e-dd3f2dcc833f"
      },
      "execution_count": null,
      "outputs": [
        {
          "output_type": "stream",
          "name": "stdout",
          "text": [
            "type(x) =  <class 'tuple'>\n",
            "x =  (1, 2, 3, 4)\n",
            "---\n",
            "type(x) =  <class 'list'>\n",
            "x =  [1, 2, 3, 4]\n",
            "---\n",
            "type(x) =  <class 'tuple'>\n",
            "x =  (-10, 2, 3, 4)\n",
            "---\n"
          ]
        }
      ]
    }
  ]
}