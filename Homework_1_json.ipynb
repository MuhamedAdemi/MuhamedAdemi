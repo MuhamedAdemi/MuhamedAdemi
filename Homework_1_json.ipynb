{
  "nbformat": 4,
  "nbformat_minor": 0,
  "metadata": {
    "colab": {
      "provenance": [],
      "toc_visible": true,
      "include_colab_link": true
    },
    "kernelspec": {
      "name": "python3",
      "display_name": "Python 3"
    },
    "language_info": {
      "name": "python"
    }
  },
  "cells": [
    {
      "cell_type": "markdown",
      "metadata": {
        "id": "view-in-github",
        "colab_type": "text"
      },
      "source": [
        "<a href=\"https://colab.research.google.com/github/MuhamedAdemi/MuhamedAdemi/blob/main/Homework_1_json.ipynb\" target=\"_parent\"><img src=\"https://colab.research.google.com/assets/colab-badge.svg\" alt=\"Open In Colab\"/></a>"
      ]
    },
    {
      "cell_type": "markdown",
      "metadata": {
        "id": "1fb777c7"
      },
      "source": [
        "# Task 1 (2 points + 2 bonus points)\n",
        "\n",
        "Write a program that ask a user to input an integer.\n",
        "\n",
        "Then:\n",
        "\n",
        "1. Write a function that converts the integer from decimal to binary. (4 points)\n",
        "    \n",
        "2. Write a function that converts the integer from decimal to binary (using recursion) (4 bonus points)\n",
        "    \n",
        "**Hints**:\n",
        "\n",
        "- Read into the function **bin()** in Python.\n",
        "- How to convert a decimal number to binary number : https://www.cuemath.com/numbers/decimal-to-binary/"
      ]
    },
    {
      "cell_type": "markdown",
      "source": [
        "### Solution"
      ],
      "metadata": {
        "id": "eYbZjEpjx8Qb"
      }
    },
    {
      "cell_type": "code",
      "source": [
        "# Program to ask for an integer input\n",
        "    # Ask the user to input an integer\n",
        "\n",
        "user_input = int(input(\"Please enter an integer: \"))\n",
        "print(f\"You entered the integer: {user_input}\")\n",
        "\n"
      ],
      "metadata": {
        "id": "7MXXsRZ2x_Oi",
        "colab": {
          "base_uri": "https://localhost:8080/"
        },
        "outputId": "e81b68ad-81d7-447c-eeba-c36b98ec9d87"
      },
      "execution_count": 8,
      "outputs": [
        {
          "output_type": "stream",
          "name": "stdout",
          "text": [
            "Please enter an integer: 55\n",
            "You entered the integer: 55\n"
          ]
        }
      ]
    },
    {
      "cell_type": "code",
      "source": [
        "# Program to ask for an integer input using if-else\n",
        "user_input = input(\"Please enter an integer: \")\n",
        "\n",
        "# Check if the input is an integer\n",
        "if user_input.isdigit() or (user_input[0] == '-' and user_input[1:].isdigit()):\n",
        "    # Convert to integer if valid\n",
        "    user_input = int(user_input)\n",
        "    print(f\"You entered the integer: {user_input}\")\n",
        "else:\n",
        "    print(\"That's not a valid integer. Please try again.\")\n"
      ],
      "metadata": {
        "colab": {
          "base_uri": "https://localhost:8080/"
        },
        "id": "iZWjSLNrvEkU",
        "outputId": "70757576-751d-4e8a-d393-7c9c2452ffa3"
      },
      "execution_count": 10,
      "outputs": [
        {
          "output_type": "stream",
          "name": "stdout",
          "text": [
            "Please enter an integer: 23\n",
            "You entered the integer: 23\n"
          ]
        }
      ]
    },
    {
      "cell_type": "code",
      "source": [
        "# Program to convert an integer from decimal to binary\n",
        "\n",
        "# Function to convert decimal to binary (non-recursive)\n",
        "def decimal_to_binary(num):\n",
        "    return bin(num)[2:]  # Using Python's built-in bin() function and slicing off the '0b'\n"
      ],
      "metadata": {
        "id": "nchFdeBTvtrN"
      },
      "execution_count": 11,
      "outputs": []
    },
    {
      "cell_type": "code",
      "source": [
        "# Function to convert decimal to binary (recursive)\n",
        "def decimal_to_binary_recursive(num):\n",
        "    if num == 0:\n",
        "        return \"0\"\n",
        "    if num == 1:\n",
        "        return \"1\"\n",
        "    return decimal_to_binary_recursive(num // 2) + str(num % 2)"
      ],
      "metadata": {
        "id": "JH0_5-aB8BFJ"
      },
      "execution_count": 21,
      "outputs": []
    },
    {
      "cell_type": "code",
      "source": [
        "# Program to convert an integer from decimal to binary\n",
        "\n",
        "# Function to convert decimal to binary (non-recursive)\n",
        "def decimal_to_binary(num):\n",
        "    return bin(num)[2:]  # Using Python's built-in bin() function and slicing off the '0b'\n",
        "\n",
        "# Function to convert decimal to binary (recursive)\n",
        "def decimal_to_binary_recursive(num):\n",
        "    if num == 0:\n",
        "        return \"0\"\n",
        "    if num == 1:\n",
        "        return \"1\"\n",
        "    return decimal_to_binary_recursive(num // 2) + str(num % 2)\n",
        "\n",
        "# Main program\n",
        "user_input = input(\"Enter an integer: \")\n",
        "\n",
        "# Validate if the input is an integer\n",
        "if user_input.isdigit() or (user_input[0] == '-' and user_input[1:].isdigit()):\n",
        "    user_input = int(user_input)\n",
        "\n",
        "    # Non-recursive conversion\n",
        "    binary_with_bin_function = decimal_to_binary(user_input)\n",
        "    print(f\"Binary (non-recursive): {binary_with_bin_function}\")\n",
        "\n",
        "    # Recursive conversion\n",
        "    binary_recursive = decimal_to_binary_recursive(user_input)\n",
        "    print(f\"Binary (recursive): {binary_recursive}\")\n",
        "else:\n",
        "    print(\"That's not a valid integer. Please try again.\")\n",
        "\n",
        "\n"
      ],
      "metadata": {
        "colab": {
          "base_uri": "https://localhost:8080/"
        },
        "id": "f0CjJrQ70X6c",
        "outputId": "364eebb0-5824-427a-e723-e41ed4bf2a5a"
      },
      "execution_count": 20,
      "outputs": [
        {
          "output_type": "stream",
          "name": "stdout",
          "text": [
            "Enter an integer: 22.3\n",
            "That's not a valid integer. Please try again.\n"
          ]
        }
      ]
    },
    {
      "cell_type": "code",
      "source": [
        "# Function to convert decimal to binary (non-recursive)\n",
        "def decimal_to_binary(num):\n",
        "    return bin(num)[2:] if num >= 0 else '-' + bin(abs(num))[2:]  # Handles negative numbers\n",
        "\n",
        "# Function to convert decimal to binary (recursive)\n",
        "def decimal_to_binary_recursive(num):\n",
        "    if num < 0:\n",
        "        return '-' + decimal_to_binary_recursive(-num)  # Handle negative numbers\n",
        "    if num == 0:\n",
        "        return \"0\"\n",
        "    if num == 1:\n",
        "        return \"1\"\n",
        "    return decimal_to_binary_recursive(num // 2) + str(num % 2)\n",
        "\n",
        "# Main program\n",
        "user_input = input(\"Enter a decimal integer: \")\n",
        "\n",
        "# Validate input and convert\n",
        "if user_input.isdigit() or (user_input[0] == '-' and user_input[1:].isdigit()):\n",
        "    user_input = int(user_input)\n",
        "\n",
        "    # Non-recursive conversion\n",
        "    binary_non_recursive = decimal_to_binary(user_input)\n",
        "    print(f\"Binary (non-recursive): {binary_non_recursive}\")\n",
        "\n",
        "    # Recursive conversion\n",
        "    binary_recursive = decimal_to_binary_recursive(user_input)\n",
        "    print(f\"Binary (recursive): {binary_recursive}\")\n",
        "else:\n",
        "    print(\"Invalid input. Please enter a valid decimal integer.\")\n"
      ],
      "metadata": {
        "colab": {
          "base_uri": "https://localhost:8080/"
        },
        "id": "mS-jTerr9wbV",
        "outputId": "74437e02-1162-481d-dff2-a2a852542e59"
      },
      "execution_count": 23,
      "outputs": [
        {
          "output_type": "stream",
          "name": "stdout",
          "text": [
            "Enter a decimal integer: -25\n",
            "Binary (non-recursive): -11001\n",
            "Binary (recursive): -11001\n"
          ]
        }
      ]
    },
    {
      "cell_type": "markdown",
      "metadata": {
        "id": "6942c7f4"
      },
      "source": [
        "# Task 2 (2 points)\n",
        "\n",
        "Ask a user to input an integer. Then, write a function that checks if the inputted number is a prime number. The function should return True if the number is prime, otherwise it should return False.\n",
        "\n",
        "**Hint**: Prime numbers are natural numbers that are divisible by only 1 and the number itself."
      ]
    },
    {
      "cell_type": "markdown",
      "source": [
        "### Solution"
      ],
      "metadata": {
        "id": "24FxYCeRyHDe"
      }
    },
    {
      "cell_type": "code",
      "source": [],
      "metadata": {
        "id": "7bHBzENwyJOs"
      },
      "execution_count": null,
      "outputs": []
    },
    {
      "cell_type": "markdown",
      "metadata": {
        "id": "aa716b5f"
      },
      "source": [
        "# Task 3 (2 points)\n",
        "\n",
        "Given the list x = [1, 2, 3, 5, 7, 8, 10, 11, 14, 15, 16, 17], write a function that finds all sublists in x containing consecutive numbers.\n",
        "\n",
        "Example:\n",
        "\n",
        "    Input: x = [1, 2, 3, 5, 7, 8, 10, 11, 14, 15, 16, 17]\n",
        "    \n",
        "    Output:\n",
        "    \n",
        "         [[1, 2, 3], [5], [7, 8], [10, 11], [14, 15, 16, 17]]"
      ]
    },
    {
      "cell_type": "markdown",
      "source": [
        "### Solution"
      ],
      "metadata": {
        "id": "Ju-ww4xFyoBa"
      }
    },
    {
      "cell_type": "code",
      "source": [],
      "metadata": {
        "id": "N74w_SO3ypYJ"
      },
      "execution_count": null,
      "outputs": []
    },
    {
      "cell_type": "markdown",
      "metadata": {
        "id": "53dff3de"
      },
      "source": [
        "# Problem 4 (2 points):\n",
        "\n",
        "Given two dictionaries (like in the example), write a function that constructs and returns a new dictionary called **color_values** that contains the values for the secondary colors.\n",
        "    \n",
        "Examples:\n",
        "\n",
        "    Input:\n",
        "        \n",
        "        primary_colors = {'red' : 10, 'blue' : 20, 'yellow' : 30}\n",
        "\n",
        "        secondary_colors = {'purple' : 'red and blue', 'orange' : 'red and yellow', 'green' : 'blue and yellow'}\n",
        "\n",
        "    Output:\n",
        "    \n",
        "        color_values = {'purple' : 30, 'orange' : 40, 'green' : 50}"
      ]
    },
    {
      "cell_type": "markdown",
      "source": [
        "### Solution"
      ],
      "metadata": {
        "id": "SHpZuNoKzBGb"
      }
    },
    {
      "cell_type": "code",
      "source": [],
      "metadata": {
        "id": "UIjTa6AizCHE"
      },
      "execution_count": null,
      "outputs": []
    }
  ]
}